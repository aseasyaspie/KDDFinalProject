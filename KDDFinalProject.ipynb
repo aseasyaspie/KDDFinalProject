{
  "nbformat": 4,
  "nbformat_minor": 0,
  "metadata": {
    "colab": {
      "name": "KDDFinalProject.ipynb",
      "provenance": [],
      "collapsed_sections": [],
      "include_colab_link": true
    },
    "kernelspec": {
      "display_name": "Python 3",
      "name": "python3"
    },
    "language_info": {
      "name": "python"
    }
  },
  "cells": [
    {
      "cell_type": "markdown",
      "metadata": {
        "id": "view-in-github",
        "colab_type": "text"
      },
      "source": [
        "<a href=\"https://colab.research.google.com/github/aseasyaspie/KDDFinalProject/blob/main/KDDFinalProject.ipynb\" target=\"_parent\"><img src=\"https://colab.research.google.com/assets/colab-badge.svg\" alt=\"Open In Colab\"/></a>"
      ]
    },
    {
      "cell_type": "markdown",
      "metadata": {
        "id": "aOu8xaL4VJUO"
      },
      "source": [
        "Goal - Predict player position based on stats \n",
        "Nitish - In order to get more data, I think we should pull out all player game data and join it with Player positions such that we are able to predict a players position based on their stat line in a game\n",
        "\n",
        "perform clustering to see if there are more than 5 clusters and intergroup analysis \n",
        "\n",
        "predict assists?\n",
        "\n",
        "do certain stats effect team win pct? such as pg assist/turnover ratio\n"
      ]
    },
    {
      "cell_type": "code",
      "metadata": {
        "id": "4YPg8OUqQdcC",
        "colab": {
          "base_uri": "https://localhost:8080/"
        },
        "outputId": "eea0045d-8767-439b-bd2c-926a5dc1edf7"
      },
      "source": [
        "!pip install kaggle\n",
        "!mkdir ~/.kaggle\n",
        "!mkdir .kaggle"
      ],
      "execution_count": null,
      "outputs": [
        {
          "output_type": "stream",
          "text": [
            "Requirement already satisfied: kaggle in /usr/local/lib/python3.7/dist-packages (1.5.12)\n",
            "Requirement already satisfied: six>=1.10 in /usr/local/lib/python3.7/dist-packages (from kaggle) (1.15.0)\n",
            "Requirement already satisfied: python-dateutil in /usr/local/lib/python3.7/dist-packages (from kaggle) (2.8.1)\n",
            "Requirement already satisfied: requests in /usr/local/lib/python3.7/dist-packages (from kaggle) (2.23.0)\n",
            "Requirement already satisfied: certifi in /usr/local/lib/python3.7/dist-packages (from kaggle) (2020.12.5)\n",
            "Requirement already satisfied: urllib3 in /usr/local/lib/python3.7/dist-packages (from kaggle) (1.24.3)\n",
            "Requirement already satisfied: tqdm in /usr/local/lib/python3.7/dist-packages (from kaggle) (4.41.1)\n",
            "Requirement already satisfied: python-slugify in /usr/local/lib/python3.7/dist-packages (from kaggle) (5.0.2)\n",
            "Requirement already satisfied: chardet<4,>=3.0.2 in /usr/local/lib/python3.7/dist-packages (from requests->kaggle) (3.0.4)\n",
            "Requirement already satisfied: idna<3,>=2.5 in /usr/local/lib/python3.7/dist-packages (from requests->kaggle) (2.10)\n",
            "Requirement already satisfied: text-unidecode>=1.3 in /usr/local/lib/python3.7/dist-packages (from python-slugify->kaggle) (1.3)\n",
            "mkdir: cannot create directory ‘/root/.kaggle’: File exists\n",
            "mkdir: cannot create directory ‘.kaggle’: File exists\n"
          ],
          "name": "stdout"
        }
      ]
    },
    {
      "cell_type": "code",
      "metadata": {
        "id": "tza4NjPQQdol"
      },
      "source": [
        "import json\n",
        "token = {'username':'architbose','key':'961e353f3c7e099130d68a9d7caa9d79'}\n",
        "with open('/content/.kaggle/kaggle.json', 'w') as file:\n",
        "    json.dump(token, file)"
      ],
      "execution_count": null,
      "outputs": []
    },
    {
      "cell_type": "code",
      "metadata": {
        "id": "lRD4IVcdQkmc",
        "colab": {
          "base_uri": "https://localhost:8080/"
        },
        "outputId": "2dc2604d-9fb7-4aeb-e515-76ae73ccdc94"
      },
      "source": [
        "!cp /content/.kaggle/kaggle.json .kaggle/kaggle.json"
      ],
      "execution_count": null,
      "outputs": [
        {
          "output_type": "stream",
          "text": [
            "cp: '/content/.kaggle/kaggle.json' and '.kaggle/kaggle.json' are the same file\n"
          ],
          "name": "stdout"
        }
      ]
    },
    {
      "cell_type": "code",
      "metadata": {
        "id": "v9pBG4rfQquZ"
      },
      "source": [
        "!cp /content/.kaggle/kaggle.json ~/.kaggle/kaggle.json"
      ],
      "execution_count": null,
      "outputs": []
    },
    {
      "cell_type": "code",
      "metadata": {
        "id": "AKxxgLy_Qsrg"
      },
      "source": [
        "!chmod 600 /root/.kaggle/kaggle.json"
      ],
      "execution_count": null,
      "outputs": []
    },
    {
      "cell_type": "code",
      "metadata": {
        "id": "5BuMaG7RQt8K",
        "colab": {
          "base_uri": "https://localhost:8080/"
        },
        "outputId": "7efa3a5e-f246-44ea-8550-57052eab5c9d"
      },
      "source": [
        "!kaggle config set -n path -v{/content}\n"
      ],
      "execution_count": null,
      "outputs": [
        {
          "output_type": "stream",
          "text": [
            "- path is now set to: {/content}\n"
          ],
          "name": "stdout"
        }
      ]
    },
    {
      "cell_type": "code",
      "metadata": {
        "id": "sbkFzNwsQvqd",
        "colab": {
          "base_uri": "https://localhost:8080/"
        },
        "outputId": "89963375-d841-4495-a327-ad9d6db107a5"
      },
      "source": [
        "!kaggle datasets list -s \"NBA Players\""
      ],
      "execution_count": null,
      "outputs": [
        {
          "output_type": "stream",
          "text": [
            "Warning: Looks like you're using an outdated API Version, please consider updating (server 1.5.12 / client 1.5.4)\n",
            "ref                                                         title                                                size  lastUpdated          downloadCount  \n",
            "----------------------------------------------------------  --------------------------------------------------  -----  -------------------  -------------  \n",
            "justinas/nba-players-data                                   NBA Players                                         490KB  2020-03-08 17:32:54          10475  \n",
            "drgilermo/nba-players-stats                                 NBA Players stats since 1950                          2MB  2018-04-27 12:23:27          34696  \n",
            "drgilermo/nba-players-stats-20142015                        NBA Players Stats - 2014-2015                        33KB  2017-05-03 17:46:24           4977  \n",
            "nathanlauga/nba-games                                       NBA games data                                       19MB  2021-05-27 16:45:02           8680  \n",
            "isaienkov/nba2k20-player-dataset                            NBA 2k20 player dataset                              15KB  2020-09-05 19:46:29           1332  \n",
            "fmejia21/nba-all-star-game-20002016                         NBA All Star Game 2000-2016                          35KB  2020-02-04 19:21:13           1876  \n",
            "jacobbaruch/basketball-players-stats-per-season-49-leagues  Basketball Players Stats per Season - 49 Leagues      3MB  2020-11-24 00:09:21           4239  \n",
            "koki25ando/salary                                           NBA Player Salary Dataset (2017 - 2018)               8KB  2018-05-26 11:54:46           4794  \n",
            "noahgift/social-power-nba                                   Social Power NBA                                      1MB  2017-08-01 02:39:55           8250  \n",
            "jarosawjaworski/current-nba-players-contracts-history       Current NBA Players Contracts History                12KB  2021-02-08 06:50:05            264  \n",
            "edgarhuichen/espn-nba-players-data                          ESPN NBA Players Data                                34KB  2018-10-28 19:30:04            460  \n",
            "davra98/nba-players-20162019                                NBA PLAYERS  2016-2019                              112KB  2019-12-04 09:23:19            425  \n",
            "rishidamarla/nba-players-by-us-state                        NBA Players by US State                             534KB  2020-09-26 16:39:50            101  \n",
            "wyattowalsh/basketball                                      Basketball Dataset                                  349MB  2021-06-04 05:11:27           3274  \n",
            "edgarhuichen/nba-players-career-game-log                    Jordan vs Lebron                                     64KB  2018-04-13 16:08:26           1977  \n",
            "amiles/nbadraftvalue                                        NBA Draft Value                                     117KB  2016-08-22 01:35:38           2453  \n",
            "pablote/nba-enhanced-stats                                  NBA Enhanced Box Score and Standings (2012 - 2018)   17MB  2018-11-08 04:49:56          10019  \n",
            "mcamli/nba17-18                                             NBA Player Stats 2017-2018                           73KB  2018-11-04 21:08:42           1505  \n",
            "lancharro5/seasons-stats-50-19                              NBA stats until 2018-2019                             2MB  2019-07-15 04:22:52            492  \n",
            "rikdifos/nba-salary-and-statistics-201617                   NBA Salary and Statistics 2016-17 (sqlite version)    2MB  2020-03-19 12:43:40            457  \n"
          ],
          "name": "stdout"
        }
      ]
    },
    {
      "cell_type": "code",
      "metadata": {
        "id": "e3KMOd62QxRs",
        "colab": {
          "base_uri": "https://localhost:8080/"
        },
        "outputId": "d8e82882-d89e-4a14-e586-dc8553c48024"
      },
      "source": [
        "!kaggle datasets download -d drgilermo/nba-players-stats -p /content"
      ],
      "execution_count": null,
      "outputs": [
        {
          "output_type": "stream",
          "text": [
            "nba-players-stats.zip: Skipping, found more recently modified local copy (use --force to force download)\n"
          ],
          "name": "stdout"
        }
      ]
    },
    {
      "cell_type": "code",
      "metadata": {
        "id": "9SkgLg78Qy88",
        "colab": {
          "base_uri": "https://localhost:8080/"
        },
        "outputId": "a0e239bd-6137-4284-e66d-6c546329c171"
      },
      "source": [
        "!unzip \\*.zip"
      ],
      "execution_count": null,
      "outputs": [
        {
          "output_type": "stream",
          "text": [
            "Archive:  nba-players-stats.zip\n",
            "replace Players.csv? [y]es, [n]o, [A]ll, [N]one, [r]ename: n\n",
            "replace Seasons_Stats.csv? [y]es, [n]o, [A]ll, [N]one, [r]ename: n\n",
            "replace player_data.csv? [y]es, [n]o, [A]ll, [N]one, [r]ename: n\n"
          ],
          "name": "stdout"
        }
      ]
    },
    {
      "cell_type": "code",
      "metadata": {
        "id": "YCcGgKsWQ0Uc",
        "colab": {
          "base_uri": "https://localhost:8080/",
          "height": 204
        },
        "outputId": "b4ca1958-fdb7-4c84-b443-662837fc554e"
      },
      "source": [
        "import pandas as pd\n",
        "d = pd.read_csv('Players.csv')\n",
        "d.head()"
      ],
      "execution_count": null,
      "outputs": [
        {
          "output_type": "execute_result",
          "data": {
            "text/html": [
              "<div>\n",
              "<style scoped>\n",
              "    .dataframe tbody tr th:only-of-type {\n",
              "        vertical-align: middle;\n",
              "    }\n",
              "\n",
              "    .dataframe tbody tr th {\n",
              "        vertical-align: top;\n",
              "    }\n",
              "\n",
              "    .dataframe thead th {\n",
              "        text-align: right;\n",
              "    }\n",
              "</style>\n",
              "<table border=\"1\" class=\"dataframe\">\n",
              "  <thead>\n",
              "    <tr style=\"text-align: right;\">\n",
              "      <th></th>\n",
              "      <th>Unnamed: 0</th>\n",
              "      <th>Player</th>\n",
              "      <th>height</th>\n",
              "      <th>weight</th>\n",
              "      <th>collage</th>\n",
              "      <th>born</th>\n",
              "      <th>birth_city</th>\n",
              "      <th>birth_state</th>\n",
              "    </tr>\n",
              "  </thead>\n",
              "  <tbody>\n",
              "    <tr>\n",
              "      <th>0</th>\n",
              "      <td>0</td>\n",
              "      <td>Curly Armstrong</td>\n",
              "      <td>180.0</td>\n",
              "      <td>77.0</td>\n",
              "      <td>Indiana University</td>\n",
              "      <td>1918.0</td>\n",
              "      <td>NaN</td>\n",
              "      <td>NaN</td>\n",
              "    </tr>\n",
              "    <tr>\n",
              "      <th>1</th>\n",
              "      <td>1</td>\n",
              "      <td>Cliff Barker</td>\n",
              "      <td>188.0</td>\n",
              "      <td>83.0</td>\n",
              "      <td>University of Kentucky</td>\n",
              "      <td>1921.0</td>\n",
              "      <td>Yorktown</td>\n",
              "      <td>Indiana</td>\n",
              "    </tr>\n",
              "    <tr>\n",
              "      <th>2</th>\n",
              "      <td>2</td>\n",
              "      <td>Leo Barnhorst</td>\n",
              "      <td>193.0</td>\n",
              "      <td>86.0</td>\n",
              "      <td>University of Notre Dame</td>\n",
              "      <td>1924.0</td>\n",
              "      <td>NaN</td>\n",
              "      <td>NaN</td>\n",
              "    </tr>\n",
              "    <tr>\n",
              "      <th>3</th>\n",
              "      <td>3</td>\n",
              "      <td>Ed Bartels</td>\n",
              "      <td>196.0</td>\n",
              "      <td>88.0</td>\n",
              "      <td>North Carolina State University</td>\n",
              "      <td>1925.0</td>\n",
              "      <td>NaN</td>\n",
              "      <td>NaN</td>\n",
              "    </tr>\n",
              "    <tr>\n",
              "      <th>4</th>\n",
              "      <td>4</td>\n",
              "      <td>Ralph Beard</td>\n",
              "      <td>178.0</td>\n",
              "      <td>79.0</td>\n",
              "      <td>University of Kentucky</td>\n",
              "      <td>1927.0</td>\n",
              "      <td>Hardinsburg</td>\n",
              "      <td>Kentucky</td>\n",
              "    </tr>\n",
              "  </tbody>\n",
              "</table>\n",
              "</div>"
            ],
            "text/plain": [
              "   Unnamed: 0           Player  height  ...    born   birth_city  birth_state\n",
              "0           0  Curly Armstrong   180.0  ...  1918.0          NaN          NaN\n",
              "1           1     Cliff Barker   188.0  ...  1921.0     Yorktown      Indiana\n",
              "2           2    Leo Barnhorst   193.0  ...  1924.0          NaN          NaN\n",
              "3           3       Ed Bartels   196.0  ...  1925.0          NaN          NaN\n",
              "4           4      Ralph Beard   178.0  ...  1927.0  Hardinsburg     Kentucky\n",
              "\n",
              "[5 rows x 8 columns]"
            ]
          },
          "metadata": {
            "tags": []
          },
          "execution_count": 13
        }
      ]
    },
    {
      "cell_type": "code",
      "metadata": {
        "id": "kz7qigt2Q2ns",
        "colab": {
          "base_uri": "https://localhost:8080/",
          "height": 204
        },
        "outputId": "72272292-896a-4ba7-d586-c70a95fd198e"
      },
      "source": [
        "df_height_weight = d.drop(['Unnamed: 0','collage','born','birth_city','birth_state'],axis=1)\n",
        "df_height_weight.head()"
      ],
      "execution_count": null,
      "outputs": [
        {
          "output_type": "execute_result",
          "data": {
            "text/html": [
              "<div>\n",
              "<style scoped>\n",
              "    .dataframe tbody tr th:only-of-type {\n",
              "        vertical-align: middle;\n",
              "    }\n",
              "\n",
              "    .dataframe tbody tr th {\n",
              "        vertical-align: top;\n",
              "    }\n",
              "\n",
              "    .dataframe thead th {\n",
              "        text-align: right;\n",
              "    }\n",
              "</style>\n",
              "<table border=\"1\" class=\"dataframe\">\n",
              "  <thead>\n",
              "    <tr style=\"text-align: right;\">\n",
              "      <th></th>\n",
              "      <th>Player</th>\n",
              "      <th>height</th>\n",
              "      <th>weight</th>\n",
              "    </tr>\n",
              "  </thead>\n",
              "  <tbody>\n",
              "    <tr>\n",
              "      <th>0</th>\n",
              "      <td>Curly Armstrong</td>\n",
              "      <td>180.0</td>\n",
              "      <td>77.0</td>\n",
              "    </tr>\n",
              "    <tr>\n",
              "      <th>1</th>\n",
              "      <td>Cliff Barker</td>\n",
              "      <td>188.0</td>\n",
              "      <td>83.0</td>\n",
              "    </tr>\n",
              "    <tr>\n",
              "      <th>2</th>\n",
              "      <td>Leo Barnhorst</td>\n",
              "      <td>193.0</td>\n",
              "      <td>86.0</td>\n",
              "    </tr>\n",
              "    <tr>\n",
              "      <th>3</th>\n",
              "      <td>Ed Bartels</td>\n",
              "      <td>196.0</td>\n",
              "      <td>88.0</td>\n",
              "    </tr>\n",
              "    <tr>\n",
              "      <th>4</th>\n",
              "      <td>Ralph Beard</td>\n",
              "      <td>178.0</td>\n",
              "      <td>79.0</td>\n",
              "    </tr>\n",
              "  </tbody>\n",
              "</table>\n",
              "</div>"
            ],
            "text/plain": [
              "            Player  height  weight\n",
              "0  Curly Armstrong   180.0    77.0\n",
              "1     Cliff Barker   188.0    83.0\n",
              "2    Leo Barnhorst   193.0    86.0\n",
              "3       Ed Bartels   196.0    88.0\n",
              "4      Ralph Beard   178.0    79.0"
            ]
          },
          "metadata": {
            "tags": []
          },
          "execution_count": 14
        }
      ]
    },
    {
      "cell_type": "code",
      "metadata": {
        "id": "u14NkJ9cRAEt"
      },
      "source": [
        "from urllib.request import urlopen\n",
        "from bs4 import BeautifulSoup\n",
        "import pandas as pd\n",
        "import numpy as np\n",
        "\n",
        "%matplotlib inline\n",
        "import matplotlib.pyplot as plt\n",
        "import seaborn as sns; sns.set()  # for plot styling\n",
        "import numpy as np\n"
      ],
      "execution_count": null,
      "outputs": []
    },
    {
      "cell_type": "code",
      "metadata": {
        "colab": {
          "base_uri": "https://localhost:8080/"
        },
        "id": "cTwvF4gajKS9",
        "outputId": "ae391e7c-38db-4e85-a1dc-893690235e72"
      },
      "source": [
        "!pip install kneed"
      ],
      "execution_count": null,
      "outputs": [
        {
          "output_type": "stream",
          "text": [
            "Requirement already satisfied: kneed in /usr/local/lib/python3.7/dist-packages (0.7.0)\n",
            "Requirement already satisfied: matplotlib in /usr/local/lib/python3.7/dist-packages (from kneed) (3.2.2)\n",
            "Requirement already satisfied: scipy in /usr/local/lib/python3.7/dist-packages (from kneed) (1.4.1)\n",
            "Requirement already satisfied: numpy>=1.14.2 in /usr/local/lib/python3.7/dist-packages (from kneed) (1.19.5)\n",
            "Requirement already satisfied: python-dateutil>=2.1 in /usr/local/lib/python3.7/dist-packages (from matplotlib->kneed) (2.8.1)\n",
            "Requirement already satisfied: kiwisolver>=1.0.1 in /usr/local/lib/python3.7/dist-packages (from matplotlib->kneed) (1.3.1)\n",
            "Requirement already satisfied: cycler>=0.10 in /usr/local/lib/python3.7/dist-packages (from matplotlib->kneed) (0.10.0)\n",
            "Requirement already satisfied: pyparsing!=2.0.4,!=2.1.2,!=2.1.6,>=2.0.1 in /usr/local/lib/python3.7/dist-packages (from matplotlib->kneed) (2.4.7)\n",
            "Requirement already satisfied: six>=1.5 in /usr/local/lib/python3.7/dist-packages (from python-dateutil>=2.1->matplotlib->kneed) (1.15.0)\n"
          ],
          "name": "stdout"
        }
      ]
    },
    {
      "cell_type": "code",
      "metadata": {
        "id": "xO37x6HhtSf3"
      },
      "source": [
        "def get_NBA_player_data(year):\n",
        "  url = \"https://www.basketball-reference.com/leagues/NBA_{}_per_game.html\".format(year)\n",
        "  # this is the HTML from the given URL\n",
        "  html = urlopen(url)\n",
        "  soup = BeautifulSoup(html)\n",
        "  # use findALL() to get the column headers\n",
        "  soup.findAll('tr', limit=2)\n",
        "  # use getText()to extract the text we need into a list\n",
        "  headers = [th.getText() for th in soup.findAll('tr', limit=2)[0].findAll('th')]\n",
        "  # exclude the first column as we will not need the ranking order from Basketball Reference for the analysis\n",
        "  headers = headers[1:]\n",
        "  rows = soup.findAll('tr')[1:]\n",
        "  player_stats = [[td.getText() for td in rows[i].findAll('td')]\n",
        "              for i in range(len(rows))]\n",
        "  stats = pd.DataFrame(player_stats, columns = headers)\n",
        "  stats = stats.dropna()\n",
        "  return stats"
      ],
      "execution_count": null,
      "outputs": []
    },
    {
      "cell_type": "code",
      "metadata": {
        "id": "FXm6vuzltZ0n"
      },
      "source": [
        "def get_player_stats_per_decade(start_year):\n",
        "  player_stats = None\n",
        "  frames = []\n",
        "  for year in range(start_year,start_year+11):\n",
        "    stats = get_NBA_player_data(year)\n",
        "    frames.append(stats)\n",
        "  player_stats = pd.concat(frames)\n",
        "  return player_stats"
      ],
      "execution_count": null,
      "outputs": []
    },
    {
      "cell_type": "code",
      "metadata": {
        "id": "syvl0mS2tdxf"
      },
      "source": [
        "def clean_dataframe(stats):\n",
        "  stats['Pos']= stats['Pos'].astype(str)\n",
        "  y = stats['Pos']\n",
        "  stats.drop(columns=['Player', 'Tm'], inplace=True)\n",
        "  stats['3P%'] = stats['3P%'].replace('', '.000')\n",
        "  stats['FG%'] = '0' + stats['FG%']\n",
        "  stats['3P%']  = '0' + stats['3P%']\n",
        "  stats['2P%']  = '0' + stats['2P%']\n",
        "  stats['eFG%']  = '0' + stats['eFG%']\n",
        "  stats['FT%']  = '0' + stats['FT%']\n",
        "  for column in stats.columns[1:]:\n",
        "    stats[column] = stats[column].astype(float)\n",
        "  return stats"
      ],
      "execution_count": null,
      "outputs": []
    },
    {
      "cell_type": "code",
      "metadata": {
        "id": "O6EihIiqBVB_"
      },
      "source": [
        "def merge_players(main_df,height_weight_df):\n",
        "  return main_df.merge(height_weight_df,on='Player')"
      ],
      "execution_count": null,
      "outputs": []
    },
    {
      "cell_type": "code",
      "metadata": {
        "id": "EWmXQkHDtgSc"
      },
      "source": [
        "player_stats_2010s = clean_dataframe(get_player_stats_per_decade(2010))\n",
        "player_stats_2000s = clean_dataframe(get_player_stats_per_decade(2000))\n",
        "player_stats_1990s = clean_dataframe(get_player_stats_per_decade(1990))\n",
        "\n",
        "# player_stats_1980s = clean_dataframe(get_player_stats_per_decade(1980))"
      ],
      "execution_count": null,
      "outputs": []
    },
    {
      "cell_type": "code",
      "metadata": {
        "colab": {
          "base_uri": "https://localhost:8080/",
          "height": 504
        },
        "id": "NQtsuv0u61tm",
        "outputId": "1a203d21-386f-4456-aae8-b279a15d4bcd"
      },
      "source": [
        "prediction_dataset = pd.concat([player_stats_2010s,player_stats_2000s,player_stats_1990s])\n",
        "\n",
        "#drop players who have less than 10 mp per game\n",
        "mp_prediction_dataset = prediction_dataset[prediction_dataset.MP >= 10]\n",
        "\n",
        "mp_prediction_dataset_labels = mp_prediction_dataset['Pos']\n",
        "mp_prediction_dataset.drop(columns=['Pos'],inplace=True)\n",
        "mp_prediction_dataset"
      ],
      "execution_count": null,
      "outputs": [
        {
          "output_type": "stream",
          "text": [
            "/usr/local/lib/python3.7/dist-packages/pandas/core/frame.py:4174: SettingWithCopyWarning: \n",
            "A value is trying to be set on a copy of a slice from a DataFrame\n",
            "\n",
            "See the caveats in the documentation: https://pandas.pydata.org/pandas-docs/stable/user_guide/indexing.html#returning-a-view-versus-a-copy\n",
            "  errors=errors,\n"
          ],
          "name": "stderr"
        },
        {
          "output_type": "execute_result",
          "data": {
            "text/html": [
              "<div>\n",
              "<style scoped>\n",
              "    .dataframe tbody tr th:only-of-type {\n",
              "        vertical-align: middle;\n",
              "    }\n",
              "\n",
              "    .dataframe tbody tr th {\n",
              "        vertical-align: top;\n",
              "    }\n",
              "\n",
              "    .dataframe thead th {\n",
              "        text-align: right;\n",
              "    }\n",
              "</style>\n",
              "<table border=\"1\" class=\"dataframe\">\n",
              "  <thead>\n",
              "    <tr style=\"text-align: right;\">\n",
              "      <th></th>\n",
              "      <th>Age</th>\n",
              "      <th>G</th>\n",
              "      <th>GS</th>\n",
              "      <th>MP</th>\n",
              "      <th>FG</th>\n",
              "      <th>FGA</th>\n",
              "      <th>FG%</th>\n",
              "      <th>3P</th>\n",
              "      <th>3PA</th>\n",
              "      <th>3P%</th>\n",
              "      <th>2P</th>\n",
              "      <th>2PA</th>\n",
              "      <th>2P%</th>\n",
              "      <th>eFG%</th>\n",
              "      <th>FT</th>\n",
              "      <th>FTA</th>\n",
              "      <th>FT%</th>\n",
              "      <th>ORB</th>\n",
              "      <th>DRB</th>\n",
              "      <th>TRB</th>\n",
              "      <th>AST</th>\n",
              "      <th>STL</th>\n",
              "      <th>BLK</th>\n",
              "      <th>TOV</th>\n",
              "      <th>PF</th>\n",
              "      <th>PTS</th>\n",
              "    </tr>\n",
              "  </thead>\n",
              "  <tbody>\n",
              "    <tr>\n",
              "      <th>0</th>\n",
              "      <td>24.0</td>\n",
              "      <td>82.0</td>\n",
              "      <td>75.0</td>\n",
              "      <td>27.1</td>\n",
              "      <td>3.3</td>\n",
              "      <td>7.1</td>\n",
              "      <td>0.465</td>\n",
              "      <td>1.3</td>\n",
              "      <td>3.0</td>\n",
              "      <td>0.434</td>\n",
              "      <td>2.0</td>\n",
              "      <td>4.1</td>\n",
              "      <td>0.488</td>\n",
              "      <td>0.557</td>\n",
              "      <td>0.9</td>\n",
              "      <td>1.2</td>\n",
              "      <td>0.735</td>\n",
              "      <td>0.7</td>\n",
              "      <td>2.4</td>\n",
              "      <td>3.1</td>\n",
              "      <td>1.7</td>\n",
              "      <td>0.6</td>\n",
              "      <td>0.4</td>\n",
              "      <td>0.9</td>\n",
              "      <td>2.7</td>\n",
              "      <td>8.8</td>\n",
              "    </tr>\n",
              "    <tr>\n",
              "      <th>2</th>\n",
              "      <td>24.0</td>\n",
              "      <td>78.0</td>\n",
              "      <td>78.0</td>\n",
              "      <td>37.5</td>\n",
              "      <td>7.4</td>\n",
              "      <td>15.0</td>\n",
              "      <td>0.495</td>\n",
              "      <td>0.1</td>\n",
              "      <td>0.2</td>\n",
              "      <td>0.313</td>\n",
              "      <td>7.4</td>\n",
              "      <td>14.8</td>\n",
              "      <td>0.498</td>\n",
              "      <td>0.497</td>\n",
              "      <td>2.9</td>\n",
              "      <td>3.9</td>\n",
              "      <td>0.757</td>\n",
              "      <td>2.5</td>\n",
              "      <td>5.6</td>\n",
              "      <td>8.0</td>\n",
              "      <td>2.1</td>\n",
              "      <td>0.9</td>\n",
              "      <td>0.6</td>\n",
              "      <td>1.3</td>\n",
              "      <td>3.0</td>\n",
              "      <td>17.9</td>\n",
              "    </tr>\n",
              "    <tr>\n",
              "      <th>5</th>\n",
              "      <td>34.0</td>\n",
              "      <td>80.0</td>\n",
              "      <td>80.0</td>\n",
              "      <td>35.2</td>\n",
              "      <td>5.8</td>\n",
              "      <td>12.2</td>\n",
              "      <td>0.477</td>\n",
              "      <td>1.8</td>\n",
              "      <td>5.0</td>\n",
              "      <td>0.363</td>\n",
              "      <td>4.0</td>\n",
              "      <td>7.2</td>\n",
              "      <td>0.556</td>\n",
              "      <td>0.551</td>\n",
              "      <td>2.9</td>\n",
              "      <td>3.2</td>\n",
              "      <td>0.913</td>\n",
              "      <td>0.6</td>\n",
              "      <td>2.6</td>\n",
              "      <td>3.2</td>\n",
              "      <td>2.6</td>\n",
              "      <td>0.8</td>\n",
              "      <td>0.3</td>\n",
              "      <td>1.6</td>\n",
              "      <td>2.3</td>\n",
              "      <td>16.3</td>\n",
              "    </tr>\n",
              "    <tr>\n",
              "      <th>6</th>\n",
              "      <td>28.0</td>\n",
              "      <td>54.0</td>\n",
              "      <td>8.0</td>\n",
              "      <td>16.5</td>\n",
              "      <td>2.4</td>\n",
              "      <td>4.7</td>\n",
              "      <td>0.510</td>\n",
              "      <td>0.0</td>\n",
              "      <td>0.1</td>\n",
              "      <td>0.000</td>\n",
              "      <td>2.4</td>\n",
              "      <td>4.6</td>\n",
              "      <td>0.520</td>\n",
              "      <td>0.510</td>\n",
              "      <td>1.3</td>\n",
              "      <td>2.2</td>\n",
              "      <td>0.605</td>\n",
              "      <td>1.0</td>\n",
              "      <td>1.7</td>\n",
              "      <td>2.7</td>\n",
              "      <td>1.3</td>\n",
              "      <td>1.1</td>\n",
              "      <td>0.4</td>\n",
              "      <td>1.2</td>\n",
              "      <td>2.0</td>\n",
              "      <td>6.1</td>\n",
              "    </tr>\n",
              "    <tr>\n",
              "      <th>7</th>\n",
              "      <td>33.0</td>\n",
              "      <td>52.0</td>\n",
              "      <td>38.0</td>\n",
              "      <td>27.3</td>\n",
              "      <td>3.0</td>\n",
              "      <td>8.6</td>\n",
              "      <td>0.348</td>\n",
              "      <td>1.1</td>\n",
              "      <td>3.2</td>\n",
              "      <td>0.345</td>\n",
              "      <td>1.9</td>\n",
              "      <td>5.3</td>\n",
              "      <td>0.349</td>\n",
              "      <td>0.413</td>\n",
              "      <td>1.1</td>\n",
              "      <td>1.6</td>\n",
              "      <td>0.728</td>\n",
              "      <td>0.3</td>\n",
              "      <td>2.2</td>\n",
              "      <td>2.5</td>\n",
              "      <td>3.4</td>\n",
              "      <td>1.0</td>\n",
              "      <td>0.2</td>\n",
              "      <td>1.8</td>\n",
              "      <td>2.0</td>\n",
              "      <td>8.2</td>\n",
              "    </tr>\n",
              "    <tr>\n",
              "      <th>...</th>\n",
              "      <td>...</td>\n",
              "      <td>...</td>\n",
              "      <td>...</td>\n",
              "      <td>...</td>\n",
              "      <td>...</td>\n",
              "      <td>...</td>\n",
              "      <td>...</td>\n",
              "      <td>...</td>\n",
              "      <td>...</td>\n",
              "      <td>...</td>\n",
              "      <td>...</td>\n",
              "      <td>...</td>\n",
              "      <td>...</td>\n",
              "      <td>...</td>\n",
              "      <td>...</td>\n",
              "      <td>...</td>\n",
              "      <td>...</td>\n",
              "      <td>...</td>\n",
              "      <td>...</td>\n",
              "      <td>...</td>\n",
              "      <td>...</td>\n",
              "      <td>...</td>\n",
              "      <td>...</td>\n",
              "      <td>...</td>\n",
              "      <td>...</td>\n",
              "      <td>...</td>\n",
              "    </tr>\n",
              "    <tr>\n",
              "      <th>508</th>\n",
              "      <td>37.0</td>\n",
              "      <td>79.0</td>\n",
              "      <td>1.0</td>\n",
              "      <td>21.3</td>\n",
              "      <td>3.0</td>\n",
              "      <td>7.2</td>\n",
              "      <td>0.415</td>\n",
              "      <td>0.0</td>\n",
              "      <td>0.0</td>\n",
              "      <td>0.333</td>\n",
              "      <td>3.0</td>\n",
              "      <td>7.2</td>\n",
              "      <td>0.415</td>\n",
              "      <td>0.416</td>\n",
              "      <td>1.7</td>\n",
              "      <td>2.1</td>\n",
              "      <td>0.799</td>\n",
              "      <td>2.5</td>\n",
              "      <td>3.6</td>\n",
              "      <td>6.1</td>\n",
              "      <td>0.6</td>\n",
              "      <td>0.5</td>\n",
              "      <td>0.6</td>\n",
              "      <td>1.2</td>\n",
              "      <td>3.2</td>\n",
              "      <td>7.6</td>\n",
              "    </tr>\n",
              "    <tr>\n",
              "      <th>509</th>\n",
              "      <td>25.0</td>\n",
              "      <td>25.0</td>\n",
              "      <td>1.0</td>\n",
              "      <td>20.3</td>\n",
              "      <td>2.4</td>\n",
              "      <td>7.2</td>\n",
              "      <td>0.341</td>\n",
              "      <td>1.2</td>\n",
              "      <td>3.9</td>\n",
              "      <td>0.296</td>\n",
              "      <td>1.3</td>\n",
              "      <td>3.2</td>\n",
              "      <td>0.395</td>\n",
              "      <td>0.422</td>\n",
              "      <td>1.6</td>\n",
              "      <td>2.0</td>\n",
              "      <td>0.765</td>\n",
              "      <td>0.4</td>\n",
              "      <td>1.6</td>\n",
              "      <td>2.0</td>\n",
              "      <td>2.6</td>\n",
              "      <td>0.9</td>\n",
              "      <td>0.1</td>\n",
              "      <td>1.5</td>\n",
              "      <td>1.3</td>\n",
              "      <td>7.6</td>\n",
              "    </tr>\n",
              "    <tr>\n",
              "      <th>512</th>\n",
              "      <td>34.0</td>\n",
              "      <td>23.0</td>\n",
              "      <td>1.0</td>\n",
              "      <td>10.8</td>\n",
              "      <td>1.0</td>\n",
              "      <td>2.7</td>\n",
              "      <td>0.371</td>\n",
              "      <td>0.5</td>\n",
              "      <td>1.3</td>\n",
              "      <td>0.379</td>\n",
              "      <td>0.5</td>\n",
              "      <td>1.4</td>\n",
              "      <td>0.364</td>\n",
              "      <td>0.460</td>\n",
              "      <td>0.4</td>\n",
              "      <td>0.6</td>\n",
              "      <td>0.692</td>\n",
              "      <td>0.0</td>\n",
              "      <td>0.7</td>\n",
              "      <td>0.7</td>\n",
              "      <td>1.9</td>\n",
              "      <td>0.5</td>\n",
              "      <td>0.0</td>\n",
              "      <td>0.6</td>\n",
              "      <td>1.0</td>\n",
              "      <td>2.9</td>\n",
              "    </tr>\n",
              "    <tr>\n",
              "      <th>514</th>\n",
              "      <td>20.0</td>\n",
              "      <td>72.0</td>\n",
              "      <td>63.0</td>\n",
              "      <td>31.1</td>\n",
              "      <td>4.3</td>\n",
              "      <td>10.5</td>\n",
              "      <td>0.407</td>\n",
              "      <td>0.8</td>\n",
              "      <td>2.7</td>\n",
              "      <td>0.314</td>\n",
              "      <td>3.5</td>\n",
              "      <td>7.9</td>\n",
              "      <td>0.438</td>\n",
              "      <td>0.447</td>\n",
              "      <td>2.6</td>\n",
              "      <td>3.9</td>\n",
              "      <td>0.674</td>\n",
              "      <td>0.9</td>\n",
              "      <td>3.4</td>\n",
              "      <td>4.3</td>\n",
              "      <td>2.8</td>\n",
              "      <td>1.7</td>\n",
              "      <td>0.5</td>\n",
              "      <td>2.3</td>\n",
              "      <td>2.2</td>\n",
              "      <td>12.0</td>\n",
              "    </tr>\n",
              "    <tr>\n",
              "      <th>515</th>\n",
              "      <td>24.0</td>\n",
              "      <td>75.0</td>\n",
              "      <td>0.0</td>\n",
              "      <td>16.1</td>\n",
              "      <td>2.4</td>\n",
              "      <td>4.8</td>\n",
              "      <td>0.499</td>\n",
              "      <td>0.0</td>\n",
              "      <td>0.0</td>\n",
              "      <td>0.333</td>\n",
              "      <td>2.4</td>\n",
              "      <td>4.8</td>\n",
              "      <td>0.500</td>\n",
              "      <td>0.500</td>\n",
              "      <td>1.2</td>\n",
              "      <td>1.8</td>\n",
              "      <td>0.644</td>\n",
              "      <td>1.6</td>\n",
              "      <td>2.5</td>\n",
              "      <td>4.1</td>\n",
              "      <td>0.3</td>\n",
              "      <td>0.4</td>\n",
              "      <td>0.5</td>\n",
              "      <td>0.9</td>\n",
              "      <td>2.7</td>\n",
              "      <td>6.0</td>\n",
              "    </tr>\n",
              "  </tbody>\n",
              "</table>\n",
              "<p>14469 rows × 26 columns</p>\n",
              "</div>"
            ],
            "text/plain": [
              "      Age     G    GS    MP   FG   FGA  ...  AST  STL  BLK  TOV   PF   PTS\n",
              "0    24.0  82.0  75.0  27.1  3.3   7.1  ...  1.7  0.6  0.4  0.9  2.7   8.8\n",
              "2    24.0  78.0  78.0  37.5  7.4  15.0  ...  2.1  0.9  0.6  1.3  3.0  17.9\n",
              "5    34.0  80.0  80.0  35.2  5.8  12.2  ...  2.6  0.8  0.3  1.6  2.3  16.3\n",
              "6    28.0  54.0   8.0  16.5  2.4   4.7  ...  1.3  1.1  0.4  1.2  2.0   6.1\n",
              "7    33.0  52.0  38.0  27.3  3.0   8.6  ...  3.4  1.0  0.2  1.8  2.0   8.2\n",
              "..    ...   ...   ...   ...  ...   ...  ...  ...  ...  ...  ...  ...   ...\n",
              "508  37.0  79.0   1.0  21.3  3.0   7.2  ...  0.6  0.5  0.6  1.2  3.2   7.6\n",
              "509  25.0  25.0   1.0  20.3  2.4   7.2  ...  2.6  0.9  0.1  1.5  1.3   7.6\n",
              "512  34.0  23.0   1.0  10.8  1.0   2.7  ...  1.9  0.5  0.0  0.6  1.0   2.9\n",
              "514  20.0  72.0  63.0  31.1  4.3  10.5  ...  2.8  1.7  0.5  2.3  2.2  12.0\n",
              "515  24.0  75.0   0.0  16.1  2.4   4.8  ...  0.3  0.4  0.5  0.9  2.7   6.0\n",
              "\n",
              "[14469 rows x 26 columns]"
            ]
          },
          "metadata": {
            "tags": []
          },
          "execution_count": 22
        }
      ]
    },
    {
      "cell_type": "code",
      "metadata": {
        "id": "FeJy14vOS-Xo"
      },
      "source": [
        "from sklearn.model_selection import train_test_split\n",
        "X_train, X_test, y_train, y_test = train_test_split(mp_prediction_dataset, mp_prediction_dataset_labels, random_state=0)\n"
      ],
      "execution_count": null,
      "outputs": []
    },
    {
      "cell_type": "code",
      "metadata": {
        "id": "wSQ49XYl9CYl"
      },
      "source": [
        "from sklearn.preprocessing import LabelEncoder\n",
        "le = LabelEncoder()\n",
        "\n",
        "yy_train = le.fit_transform(y_train)\n",
        "yy_test = le.fit_transform(y_test)"
      ],
      "execution_count": null,
      "outputs": []
    },
    {
      "cell_type": "code",
      "metadata": {
        "id": "abO09e8eELqQ"
      },
      "source": [
        "from sklearn.preprocessing import StandardScaler\n",
        "scaler = StandardScaler()\n",
        "X_scaler = scaler.fit(X_train)\n",
        "X_train_scaled = X_scaler.transform(X_train)\n",
        "X_test_scaled = X_scaler.transform(X_test)"
      ],
      "execution_count": null,
      "outputs": []
    },
    {
      "cell_type": "code",
      "metadata": {
        "id": "_rTcStxTJ066"
      },
      "source": [
        "from sklearn.metrics import accuracy_score\n"
      ],
      "execution_count": null,
      "outputs": []
    },
    {
      "cell_type": "code",
      "metadata": {
        "colab": {
          "base_uri": "https://localhost:8080/"
        },
        "id": "BLy_pz33HqqC",
        "outputId": "21d5cc10-2e0f-4875-aab8-9eb9333fce5b"
      },
      "source": [
        "from sklearn.ensemble import RandomForestClassifier\n",
        "rf1_model = RandomForestClassifier(n_estimators=500, random_state=1)\n",
        "rf1_model = rf1_model.fit(X_train_scaled, y_train)\n",
        "predictions = rf1_model.predict(X_test_scaled)\n",
        "model_accuracy_score = accuracy_score(y_test, predictions)\n",
        "print(model_accuracy_score)"
      ],
      "execution_count": null,
      "outputs": [
        {
          "output_type": "stream",
          "text": [
            "0.7153123272526257\n"
          ],
          "name": "stdout"
        }
      ]
    },
    {
      "cell_type": "code",
      "metadata": {
        "colab": {
          "base_uri": "https://localhost:8080/"
        },
        "id": "1Je0USIrKCov",
        "outputId": "7eb61759-b1cd-4ef3-f446-9ac8f2d7099e"
      },
      "source": [
        "from sklearn import svm\n",
        "from sklearn.svm import SVC\n",
        "svm1_model = svm.SVC(kernel='linear', random_state=1)\n",
        "svm1_model = svm1_model.fit(X_train_scaled, y_train)\n",
        "predictions = svm1_model.predict(X_test_scaled)\n",
        "model_accuracy_score = accuracy_score(y_test, predictions)\n",
        "print(model_accuracy_score)"
      ],
      "execution_count": null,
      "outputs": [
        {
          "output_type": "stream",
          "text": [
            "0.6760641238253179\n"
          ],
          "name": "stdout"
        }
      ]
    },
    {
      "cell_type": "code",
      "metadata": {
        "colab": {
          "base_uri": "https://localhost:8080/"
        },
        "id": "KmgOtqFcTf00",
        "outputId": "2fcfbe68-423e-473e-b75a-83dd769bbc8c"
      },
      "source": [
        "from sklearn.discriminant_analysis import LinearDiscriminantAnalysis\n",
        "lda = LinearDiscriminantAnalysis()\n",
        "lda.fit(X_train_scaled, y_train)\n",
        "print('Accuracy of LDA classifier on training set: {:.2f}'\n",
        "     .format(lda.score(X_train_scaled, y_train)))\n",
        "print('Accuracy of LDA classifier on test set: {:.2f}'\n",
        "     .format(lda.score(X_test_scaled, y_test)))"
      ],
      "execution_count": null,
      "outputs": [
        {
          "output_type": "stream",
          "text": [
            "Accuracy of LDA classifier on training set: 0.63\n",
            "Accuracy of LDA classifier on test set: 0.62\n"
          ],
          "name": "stdout"
        }
      ]
    },
    {
      "cell_type": "code",
      "metadata": {
        "colab": {
          "base_uri": "https://localhost:8080/"
        },
        "id": "zL4qamf3TpY8",
        "outputId": "14659063-5cef-4573-f7bc-63b4292cef22"
      },
      "source": [
        "from sklearn.neighbors import KNeighborsClassifier\n",
        "knn = KNeighborsClassifier()\n",
        "knn.fit(X_train_scaled, y_train)\n",
        "print('Accuracy of K-NN classifier on training set: {:.2f}'\n",
        "     .format(knn.score(X_train_scaled, y_train)))\n",
        "print('Accuracy of K-NN classifier on test set: {:.2f}'\n",
        "     .format(knn.score(X_test_scaled, y_test)))"
      ],
      "execution_count": null,
      "outputs": [
        {
          "output_type": "stream",
          "text": [
            "Accuracy of K-NN classifier on training set: 0.75\n",
            "Accuracy of K-NN classifier on test set: 0.61\n"
          ],
          "name": "stdout"
        }
      ]
    },
    {
      "cell_type": "code",
      "metadata": {
        "colab": {
          "base_uri": "https://localhost:8080/"
        },
        "id": "FLWpTwWzQx9d",
        "outputId": "d5a8ef54-b694-4b51-c89f-0aa4f581278e"
      },
      "source": [
        "from sklearn.tree import DecisionTreeClassifier\n",
        "clf = DecisionTreeClassifier().fit(X_train_scaled, y_train)\n",
        "print('Accuracy of Decision Tree classifier on training set: {:.2f}'\n",
        "     .format(clf.score(X_train_scaled, y_train)))\n",
        "print('Accuracy of Decision Tree classifier on test set: {:.2f}'\n",
        "     .format(clf.score(X_test_scaled, y_test)))"
      ],
      "execution_count": null,
      "outputs": [
        {
          "output_type": "stream",
          "text": [
            "Accuracy of Decision Tree classifier on training set: 1.00\n",
            "Accuracy of Decision Tree classifier on test set: 0.60\n"
          ],
          "name": "stdout"
        }
      ]
    },
    {
      "cell_type": "code",
      "metadata": {
        "colab": {
          "base_uri": "https://localhost:8080/"
        },
        "id": "f9__8OA7Ti11",
        "outputId": "ca5f3b0c-71bc-47e2-ea88-52254535f7b4"
      },
      "source": [
        "from sklearn.ensemble import GradientBoostingClassifier\n",
        "gbt1_model = GradientBoostingClassifier(n_estimators=20, learning_rate=0.75, max_depth=3, random_state=1)\n",
        "gbt1_model = gbt1_model.fit(X_train_scaled, y_train)\n",
        "predictions = gbt1_model.predict(X_test_scaled)\n",
        "model_accuracy_score = accuracy_score(y_test, predictions)\n",
        "print(model_accuracy_score)"
      ],
      "execution_count": null,
      "outputs": [
        {
          "output_type": "stream",
          "text": [
            "0.5726920950801547\n"
          ],
          "name": "stdout"
        }
      ]
    },
    {
      "cell_type": "code",
      "metadata": {
        "colab": {
          "base_uri": "https://localhost:8080/"
        },
        "id": "kv8p3uO98r8z",
        "outputId": "e6554743-255e-4f3a-82c4-ebbf4e4db9b3"
      },
      "source": [
        "y_train"
      ],
      "execution_count": null,
      "outputs": [
        {
          "output_type": "execute_result",
          "data": {
            "text/plain": [
              "440    SF\n",
              "316    SF\n",
              "225    PG\n",
              "626    PG\n",
              "410    PG\n",
              "       ..\n",
              "403    PG\n",
              "473    PG\n",
              "45     SG\n",
              "239    PG\n",
              "474    SF\n",
              "Name: Pos, Length: 10851, dtype: object"
            ]
          },
          "metadata": {
            "tags": []
          },
          "execution_count": 33
        }
      ]
    },
    {
      "cell_type": "code",
      "metadata": {
        "colab": {
          "base_uri": "https://localhost:8080/",
          "height": 426
        },
        "id": "YSlpw0Na6tG8",
        "outputId": "aa5bf1db-c799-477d-e97e-c27031975573"
      },
      "source": [
        "from keras.models import Sequential\n",
        "from keras.layers import Dense\n",
        "\n",
        "model = Sequential()\n",
        "model.add(Dense(500, activation='relu', input_dim=26))\n",
        "model.add(Dense(100, activation='relu'))\n",
        "model.add(Dense(50, activation='relu'))\n",
        "model.add(Dense(2, activation='sigmoid'))\n",
        "\n",
        "# Compile the model\n",
        "model.compile(optimizer='adam', \n",
        "              loss='categorical_crossentropy', \n",
        "              metrics=['accuracy'])\n",
        "model.fit(X_train_scaled, yy_train, epochs=20)\n",
        "\n",
        "pred_train= model.predict(X_train)\n",
        "scores = model.evaluate(X_train, yy_train, verbose=0)\n",
        "print('Accuracy on training data: {}% \\n Error on training data: {}'.format(scores[1], 1 - scores[1]))   \n",
        " \n",
        "pred_test= model.predict(X_test)\n",
        "scores2 = model.evaluate(X_test, yy_test, verbose=0)\n",
        "print('Accuracy on test data: {}% \\n Error on test data: {}'.format(scores2[1], 1 - scores2[1]))    \n"
      ],
      "execution_count": null,
      "outputs": [
        {
          "output_type": "error",
          "ename": "ValueError",
          "evalue": "ignored",
          "traceback": [
            "\u001b[0;31m---------------------------------------------------------------------------\u001b[0m",
            "\u001b[0;31mValueError\u001b[0m                                Traceback (most recent call last)",
            "\u001b[0;32m<ipython-input-59-dce066dee94f>\u001b[0m in \u001b[0;36m<module>\u001b[0;34m()\u001b[0m\n\u001b[1;32m     12\u001b[0m               \u001b[0mloss\u001b[0m\u001b[0;34m=\u001b[0m\u001b[0;34m'categorical_crossentropy'\u001b[0m\u001b[0;34m,\u001b[0m\u001b[0;34m\u001b[0m\u001b[0;34m\u001b[0m\u001b[0m\n\u001b[1;32m     13\u001b[0m               metrics=['accuracy'])\n\u001b[0;32m---> 14\u001b[0;31m \u001b[0mmodel\u001b[0m\u001b[0;34m.\u001b[0m\u001b[0mfit\u001b[0m\u001b[0;34m(\u001b[0m\u001b[0mX_train_scaled\u001b[0m\u001b[0;34m,\u001b[0m \u001b[0myy_train\u001b[0m\u001b[0;34m,\u001b[0m \u001b[0mepochs\u001b[0m\u001b[0;34m=\u001b[0m\u001b[0;36m20\u001b[0m\u001b[0;34m)\u001b[0m\u001b[0;34m\u001b[0m\u001b[0;34m\u001b[0m\u001b[0m\n\u001b[0m\u001b[1;32m     15\u001b[0m \u001b[0;34m\u001b[0m\u001b[0m\n\u001b[1;32m     16\u001b[0m \u001b[0mpred_train\u001b[0m\u001b[0;34m=\u001b[0m \u001b[0mmodel\u001b[0m\u001b[0;34m.\u001b[0m\u001b[0mpredict\u001b[0m\u001b[0;34m(\u001b[0m\u001b[0mX_train\u001b[0m\u001b[0;34m)\u001b[0m\u001b[0;34m\u001b[0m\u001b[0;34m\u001b[0m\u001b[0m\n",
            "\u001b[0;32m/usr/local/lib/python3.7/dist-packages/keras/engine/training.py\u001b[0m in \u001b[0;36mfit\u001b[0;34m(self, x, y, batch_size, epochs, verbose, callbacks, validation_split, validation_data, shuffle, class_weight, sample_weight, initial_epoch, steps_per_epoch, validation_steps, validation_batch_size, validation_freq, max_queue_size, workers, use_multiprocessing)\u001b[0m\n\u001b[1;32m   1120\u001b[0m           \u001b[0muse_multiprocessing\u001b[0m\u001b[0;34m=\u001b[0m\u001b[0muse_multiprocessing\u001b[0m\u001b[0;34m,\u001b[0m\u001b[0;34m\u001b[0m\u001b[0;34m\u001b[0m\u001b[0m\n\u001b[1;32m   1121\u001b[0m           \u001b[0mmodel\u001b[0m\u001b[0;34m=\u001b[0m\u001b[0mself\u001b[0m\u001b[0;34m,\u001b[0m\u001b[0;34m\u001b[0m\u001b[0;34m\u001b[0m\u001b[0m\n\u001b[0;32m-> 1122\u001b[0;31m           steps_per_execution=self._steps_per_execution)\n\u001b[0m\u001b[1;32m   1123\u001b[0m \u001b[0;34m\u001b[0m\u001b[0m\n\u001b[1;32m   1124\u001b[0m       \u001b[0;31m# Container that configures and calls `tf.keras.Callback`s.\u001b[0m\u001b[0;34m\u001b[0m\u001b[0;34m\u001b[0m\u001b[0;34m\u001b[0m\u001b[0m\n",
            "\u001b[0;32m/usr/local/lib/python3.7/dist-packages/keras/engine/data_adapter.py\u001b[0m in \u001b[0;36mget_data_handler\u001b[0;34m(*args, **kwargs)\u001b[0m\n\u001b[1;32m   1346\u001b[0m   \u001b[0;32mif\u001b[0m \u001b[0mgetattr\u001b[0m\u001b[0;34m(\u001b[0m\u001b[0mkwargs\u001b[0m\u001b[0;34m[\u001b[0m\u001b[0;34m\"model\"\u001b[0m\u001b[0;34m]\u001b[0m\u001b[0;34m,\u001b[0m \u001b[0;34m\"_cluster_coordinator\"\u001b[0m\u001b[0;34m,\u001b[0m \u001b[0;32mNone\u001b[0m\u001b[0;34m)\u001b[0m\u001b[0;34m:\u001b[0m\u001b[0;34m\u001b[0m\u001b[0;34m\u001b[0m\u001b[0m\n\u001b[1;32m   1347\u001b[0m     \u001b[0;32mreturn\u001b[0m \u001b[0m_ClusterCoordinatorDataHandler\u001b[0m\u001b[0;34m(\u001b[0m\u001b[0;34m*\u001b[0m\u001b[0margs\u001b[0m\u001b[0;34m,\u001b[0m \u001b[0;34m**\u001b[0m\u001b[0mkwargs\u001b[0m\u001b[0;34m)\u001b[0m\u001b[0;34m\u001b[0m\u001b[0;34m\u001b[0m\u001b[0m\n\u001b[0;32m-> 1348\u001b[0;31m   \u001b[0;32mreturn\u001b[0m \u001b[0mDataHandler\u001b[0m\u001b[0;34m(\u001b[0m\u001b[0;34m*\u001b[0m\u001b[0margs\u001b[0m\u001b[0;34m,\u001b[0m \u001b[0;34m**\u001b[0m\u001b[0mkwargs\u001b[0m\u001b[0;34m)\u001b[0m\u001b[0;34m\u001b[0m\u001b[0;34m\u001b[0m\u001b[0m\n\u001b[0m\u001b[1;32m   1349\u001b[0m \u001b[0;34m\u001b[0m\u001b[0m\n\u001b[1;32m   1350\u001b[0m \u001b[0;34m\u001b[0m\u001b[0m\n",
            "\u001b[0;32m/usr/local/lib/python3.7/dist-packages/keras/engine/data_adapter.py\u001b[0m in \u001b[0;36m__init__\u001b[0;34m(self, x, y, sample_weight, batch_size, steps_per_epoch, initial_epoch, epochs, shuffle, class_weight, max_queue_size, workers, use_multiprocessing, model, steps_per_execution, distribute)\u001b[0m\n\u001b[1;32m   1148\u001b[0m         \u001b[0muse_multiprocessing\u001b[0m\u001b[0;34m=\u001b[0m\u001b[0muse_multiprocessing\u001b[0m\u001b[0;34m,\u001b[0m\u001b[0;34m\u001b[0m\u001b[0;34m\u001b[0m\u001b[0m\n\u001b[1;32m   1149\u001b[0m         \u001b[0mdistribution_strategy\u001b[0m\u001b[0;34m=\u001b[0m\u001b[0mtf\u001b[0m\u001b[0;34m.\u001b[0m\u001b[0mdistribute\u001b[0m\u001b[0;34m.\u001b[0m\u001b[0mget_strategy\u001b[0m\u001b[0;34m(\u001b[0m\u001b[0;34m)\u001b[0m\u001b[0;34m,\u001b[0m\u001b[0;34m\u001b[0m\u001b[0;34m\u001b[0m\u001b[0m\n\u001b[0;32m-> 1150\u001b[0;31m         model=model)\n\u001b[0m\u001b[1;32m   1151\u001b[0m \u001b[0;34m\u001b[0m\u001b[0m\n\u001b[1;32m   1152\u001b[0m     \u001b[0mstrategy\u001b[0m \u001b[0;34m=\u001b[0m \u001b[0mtf\u001b[0m\u001b[0;34m.\u001b[0m\u001b[0mdistribute\u001b[0m\u001b[0;34m.\u001b[0m\u001b[0mget_strategy\u001b[0m\u001b[0;34m(\u001b[0m\u001b[0;34m)\u001b[0m\u001b[0;34m\u001b[0m\u001b[0;34m\u001b[0m\u001b[0m\n",
            "\u001b[0;32m/usr/local/lib/python3.7/dist-packages/keras/engine/data_adapter.py\u001b[0m in \u001b[0;36m__init__\u001b[0;34m(self, x, y, sample_weights, sample_weight_modes, batch_size, epochs, steps, shuffle, **kwargs)\u001b[0m\n\u001b[1;32m    240\u001b[0m \u001b[0;34m\u001b[0m\u001b[0m\n\u001b[1;32m    241\u001b[0m     \u001b[0mnum_samples\u001b[0m \u001b[0;34m=\u001b[0m \u001b[0mset\u001b[0m\u001b[0;34m(\u001b[0m\u001b[0mint\u001b[0m\u001b[0;34m(\u001b[0m\u001b[0mi\u001b[0m\u001b[0;34m.\u001b[0m\u001b[0mshape\u001b[0m\u001b[0;34m[\u001b[0m\u001b[0;36m0\u001b[0m\u001b[0;34m]\u001b[0m\u001b[0;34m)\u001b[0m \u001b[0;32mfor\u001b[0m \u001b[0mi\u001b[0m \u001b[0;32min\u001b[0m \u001b[0mtf\u001b[0m\u001b[0;34m.\u001b[0m\u001b[0mnest\u001b[0m\u001b[0;34m.\u001b[0m\u001b[0mflatten\u001b[0m\u001b[0;34m(\u001b[0m\u001b[0minputs\u001b[0m\u001b[0;34m)\u001b[0m\u001b[0;34m)\u001b[0m\u001b[0;34m.\u001b[0m\u001b[0mpop\u001b[0m\u001b[0;34m(\u001b[0m\u001b[0;34m)\u001b[0m\u001b[0;34m\u001b[0m\u001b[0;34m\u001b[0m\u001b[0m\n\u001b[0;32m--> 242\u001b[0;31m     \u001b[0m_check_data_cardinality\u001b[0m\u001b[0;34m(\u001b[0m\u001b[0minputs\u001b[0m\u001b[0;34m)\u001b[0m\u001b[0;34m\u001b[0m\u001b[0;34m\u001b[0m\u001b[0m\n\u001b[0m\u001b[1;32m    243\u001b[0m \u001b[0;34m\u001b[0m\u001b[0m\n\u001b[1;32m    244\u001b[0m     \u001b[0;31m# If batch_size is not passed but steps is, calculate from the input data.\u001b[0m\u001b[0;34m\u001b[0m\u001b[0;34m\u001b[0m\u001b[0;34m\u001b[0m\u001b[0m\n",
            "\u001b[0;32m/usr/local/lib/python3.7/dist-packages/keras/engine/data_adapter.py\u001b[0m in \u001b[0;36m_check_data_cardinality\u001b[0;34m(data)\u001b[0m\n\u001b[1;32m   1612\u001b[0m           label, \", \".join(str(i.shape[0]) for i in tf.nest.flatten(single_data)))\n\u001b[1;32m   1613\u001b[0m     \u001b[0mmsg\u001b[0m \u001b[0;34m+=\u001b[0m \u001b[0;34m\"Make sure all arrays contain the same number of samples.\"\u001b[0m\u001b[0;34m\u001b[0m\u001b[0;34m\u001b[0m\u001b[0m\n\u001b[0;32m-> 1614\u001b[0;31m     \u001b[0;32mraise\u001b[0m \u001b[0mValueError\u001b[0m\u001b[0;34m(\u001b[0m\u001b[0mmsg\u001b[0m\u001b[0;34m)\u001b[0m\u001b[0;34m\u001b[0m\u001b[0;34m\u001b[0m\u001b[0m\n\u001b[0m\u001b[1;32m   1615\u001b[0m \u001b[0;34m\u001b[0m\u001b[0m\n\u001b[1;32m   1616\u001b[0m \u001b[0;34m\u001b[0m\u001b[0m\n",
            "\u001b[0;31mValueError\u001b[0m: Data cardinality is ambiguous:\n  x sizes: 9772\n  y sizes: 10851\nMake sure all arrays contain the same number of samples."
          ]
        }
      ]
    },
    {
      "cell_type": "markdown",
      "metadata": {
        "id": "3Ac5ypP8MBIm"
      },
      "source": [
        "Highest accuracy score comes from random forests classifier "
      ]
    },
    {
      "cell_type": "code",
      "metadata": {
        "colab": {
          "base_uri": "https://localhost:8080/",
          "height": 710
        },
        "id": "lDAkrePVMFUy",
        "outputId": "df9fdb11-5cb9-46d9-82d3-567ae021d63c"
      },
      "source": [
        "from sklearn.ensemble import RandomForestClassifier\n",
        "from matplotlib import pyplot\n",
        "# define dataset\n",
        "# define the model\n",
        "model = RandomForestClassifier()\n",
        "# fit the model\n",
        "model.fit(X_train_scaled, y_train)\n",
        "# get importance\n",
        "importance = model.feature_importances_\n",
        "# summarize feature importance\n",
        "for i in range(len(importance)):\n",
        "  string = \"\"\n",
        "  val = X_train.columns[i]\n",
        "  string = string + \"Feature\" + str(i) + \" \" + val + \" = Importance:\" + str(importance[i])\n",
        "  print(string)\n",
        "\n",
        "#for i,v in enumerate(importance):\n",
        "\t#print('Feature: %0d, Score: %.5f' % (i,v))\n",
        "# plot feature importance\n",
        "pyplot.bar([x for x in range(len(importance))], importance)\n",
        "pyplot.show()"
      ],
      "execution_count": null,
      "outputs": [
        {
          "output_type": "stream",
          "text": [
            "Feature0 Age = Importance:0.024552303822033106\n",
            "Feature1 G = Importance:0.025523986623352143\n",
            "Feature2 GS = Importance:0.02696216673606043\n",
            "Feature3 MP = Importance:0.038929989340260394\n",
            "Feature4 FG = Importance:0.023062709721194206\n",
            "Feature5 FGA = Importance:0.029091691558310935\n",
            "Feature6 FG% = Importance:0.03010070568394308\n",
            "Feature7 3P = Importance:0.03390332438743451\n",
            "Feature8 3PA = Importance:0.05720524785518021\n",
            "Feature9 3P% = Importance:0.03765890007805392\n",
            "Feature10 2P = Importance:0.02154933049083683\n",
            "Feature11 2PA = Importance:0.026034003479961477\n",
            "Feature12 2P% = Importance:0.02808825496583459\n",
            "Feature13 eFG% = Importance:0.027001584336969673\n",
            "Feature14 FT = Importance:0.023602331202236163\n",
            "Feature15 FTA = Importance:0.024447896174661247\n",
            "Feature16 FT% = Importance:0.02995256240821544\n",
            "Feature17 ORB = Importance:0.06190576592736271\n",
            "Feature18 DRB = Importance:0.050689081710555\n",
            "Feature19 TRB = Importance:0.07122085546683307\n",
            "Feature20 AST = Importance:0.11906979642709865\n",
            "Feature21 STL = Importance:0.0371432209373081\n",
            "Feature22 BLK = Importance:0.06026339146749298\n",
            "Feature23 TOV = Importance:0.034148597880645754\n",
            "Feature24 PF = Importance:0.02989960424320317\n",
            "Feature25 PTS = Importance:0.02799269707496234\n"
          ],
          "name": "stdout"
        },
        {
          "output_type": "display_data",
          "data": {
            "image/png": "[encoded data removed]",
            "text/plain": [
              "<Figure size 432x288 with 1 Axes>"
            ]
          },
          "metadata": {
            "tags": []
          }
        }
      ]
    },
    {
      "cell_type": "code",
      "metadata": {
        "id": "rgSBO31rQDbF"
      },
      "source": [
        "feature_df = mp_prediction_dataset.drop(columns=['Age'])\n",
        "\n",
        "from sklearn.model_selection import train_test_split\n",
        "newx_train, newx_test, newy_train, newy_test = train_test_split(feature_df, mp_prediction_dataset_labels, random_state=0)\n",
        "\n",
        "from sklearn.preprocessing import StandardScaler\n",
        "scaler = StandardScaler()\n",
        "newscale = scaler.fit(newx_train)\n",
        "newscaledtrain = newscale.transform(newx_train)\n",
        "newscaledtest = newscale.transform(newx_test)\n"
      ],
      "execution_count": null,
      "outputs": []
    },
    {
      "cell_type": "code",
      "metadata": {
        "colab": {
          "base_uri": "https://localhost:8080/"
        },
        "id": "t3yRNYVZF72E",
        "outputId": "b7b5cdb2-f63e-4faa-ddbd-883707af8579"
      },
      "source": [
        "from sklearn.ensemble import RandomForestClassifier\n",
        "rf1_model = RandomForestClassifier(n_estimators=500, random_state=1)\n",
        "rf1_model = rf1_model.fit(newscaledtrain, newy_train)\n",
        "predictions = rf1_model.predict(newscaledtest)\n",
        "model_accuracy_score = accuracy_score(newy_test, predictions)\n",
        "print(model_accuracy_score)"
      ],
      "execution_count": null,
      "outputs": [
        {
          "output_type": "stream",
          "text": [
            "0.7086788280818132\n"
          ],
          "name": "stdout"
        }
      ]
    },
    {
      "cell_type": "markdown",
      "metadata": {
        "id": "oayn3qfxKOT6"
      },
      "source": [
        "### **Adding Height and Weight**"
      ]
    },
    {
      "cell_type": "code",
      "metadata": {
        "id": "ApPIETDUE93U"
      },
      "source": [
        "player_stats_2010s = clean_dataframe(merge_players(get_player_stats_per_decade(2010),df_height_weight))\n",
        "player_stats_2000s = clean_dataframe(merge_players(get_player_stats_per_decade(2000),df_height_weight))\n",
        "player_stats_1990s = clean_dataframe(merge_players(get_player_stats_per_decade(1990),df_height_weight))"
      ],
      "execution_count": null,
      "outputs": []
    },
    {
      "cell_type": "code",
      "metadata": {
        "colab": {
          "base_uri": "https://localhost:8080/",
          "height": 504
        },
        "id": "UxpW5jfRHy-h",
        "outputId": "a2279a0e-9e0d-4719-9ac0-c74b9315017d"
      },
      "source": [
        "prediction_dataset = pd.concat([player_stats_2010s,player_stats_2000s,player_stats_1990s])\n",
        "\n",
        "#drop players who have less than 10 mp per game\n",
        "mp_prediction_dataset = prediction_dataset[prediction_dataset.MP >= 10]\n",
        "\n",
        "mp_prediction_dataset_labels = mp_prediction_dataset['Pos']\n",
        "mp_prediction_dataset.drop(columns=['Pos'],inplace=True)\n",
        "mp_prediction_dataset"
      ],
      "execution_count": null,
      "outputs": [
        {
          "output_type": "stream",
          "text": [
            "/usr/local/lib/python3.7/dist-packages/pandas/core/frame.py:4174: SettingWithCopyWarning: \n",
            "A value is trying to be set on a copy of a slice from a DataFrame\n",
            "\n",
            "See the caveats in the documentation: https://pandas.pydata.org/pandas-docs/stable/user_guide/indexing.html#returning-a-view-versus-a-copy\n",
            "  errors=errors,\n"
          ],
          "name": "stderr"
        },
        {
          "output_type": "execute_result",
          "data": {
            "text/html": [
              "<div>\n",
              "<style scoped>\n",
              "    .dataframe tbody tr th:only-of-type {\n",
              "        vertical-align: middle;\n",
              "    }\n",
              "\n",
              "    .dataframe tbody tr th {\n",
              "        vertical-align: top;\n",
              "    }\n",
              "\n",
              "    .dataframe thead th {\n",
              "        text-align: right;\n",
              "    }\n",
              "</style>\n",
              "<table border=\"1\" class=\"dataframe\">\n",
              "  <thead>\n",
              "    <tr style=\"text-align: right;\">\n",
              "      <th></th>\n",
              "      <th>Age</th>\n",
              "      <th>G</th>\n",
              "      <th>GS</th>\n",
              "      <th>MP</th>\n",
              "      <th>FG</th>\n",
              "      <th>FGA</th>\n",
              "      <th>FG%</th>\n",
              "      <th>3P</th>\n",
              "      <th>3PA</th>\n",
              "      <th>3P%</th>\n",
              "      <th>2P</th>\n",
              "      <th>2PA</th>\n",
              "      <th>2P%</th>\n",
              "      <th>eFG%</th>\n",
              "      <th>FT</th>\n",
              "      <th>FTA</th>\n",
              "      <th>FT%</th>\n",
              "      <th>ORB</th>\n",
              "      <th>DRB</th>\n",
              "      <th>TRB</th>\n",
              "      <th>AST</th>\n",
              "      <th>STL</th>\n",
              "      <th>BLK</th>\n",
              "      <th>TOV</th>\n",
              "      <th>PF</th>\n",
              "      <th>PTS</th>\n",
              "      <th>height</th>\n",
              "      <th>weight</th>\n",
              "    </tr>\n",
              "  </thead>\n",
              "  <tbody>\n",
              "    <tr>\n",
              "      <th>0</th>\n",
              "      <td>24.0</td>\n",
              "      <td>82.0</td>\n",
              "      <td>75.0</td>\n",
              "      <td>27.1</td>\n",
              "      <td>3.3</td>\n",
              "      <td>7.1</td>\n",
              "      <td>0.465</td>\n",
              "      <td>1.3</td>\n",
              "      <td>3.0</td>\n",
              "      <td>0.434</td>\n",
              "      <td>2.0</td>\n",
              "      <td>4.1</td>\n",
              "      <td>0.488</td>\n",
              "      <td>0.557</td>\n",
              "      <td>0.9</td>\n",
              "      <td>1.2</td>\n",
              "      <td>0.735</td>\n",
              "      <td>0.7</td>\n",
              "      <td>2.4</td>\n",
              "      <td>3.1</td>\n",
              "      <td>1.7</td>\n",
              "      <td>0.6</td>\n",
              "      <td>0.4</td>\n",
              "      <td>0.9</td>\n",
              "      <td>2.7</td>\n",
              "      <td>8.8</td>\n",
              "      <td>196.0</td>\n",
              "      <td>95.0</td>\n",
              "    </tr>\n",
              "    <tr>\n",
              "      <th>1</th>\n",
              "      <td>25.0</td>\n",
              "      <td>69.0</td>\n",
              "      <td>69.0</td>\n",
              "      <td>33.7</td>\n",
              "      <td>4.5</td>\n",
              "      <td>9.1</td>\n",
              "      <td>0.498</td>\n",
              "      <td>1.5</td>\n",
              "      <td>3.6</td>\n",
              "      <td>0.423</td>\n",
              "      <td>3.0</td>\n",
              "      <td>5.5</td>\n",
              "      <td>0.546</td>\n",
              "      <td>0.581</td>\n",
              "      <td>2.0</td>\n",
              "      <td>2.4</td>\n",
              "      <td>0.847</td>\n",
              "      <td>0.7</td>\n",
              "      <td>3.0</td>\n",
              "      <td>3.6</td>\n",
              "      <td>2.4</td>\n",
              "      <td>0.5</td>\n",
              "      <td>0.4</td>\n",
              "      <td>1.0</td>\n",
              "      <td>2.2</td>\n",
              "      <td>12.6</td>\n",
              "      <td>196.0</td>\n",
              "      <td>95.0</td>\n",
              "    </tr>\n",
              "    <tr>\n",
              "      <th>2</th>\n",
              "      <td>26.0</td>\n",
              "      <td>62.0</td>\n",
              "      <td>62.0</td>\n",
              "      <td>33.6</td>\n",
              "      <td>5.3</td>\n",
              "      <td>11.3</td>\n",
              "      <td>0.471</td>\n",
              "      <td>1.4</td>\n",
              "      <td>3.6</td>\n",
              "      <td>0.398</td>\n",
              "      <td>3.9</td>\n",
              "      <td>7.7</td>\n",
              "      <td>0.504</td>\n",
              "      <td>0.534</td>\n",
              "      <td>3.2</td>\n",
              "      <td>4.0</td>\n",
              "      <td>0.798</td>\n",
              "      <td>0.6</td>\n",
              "      <td>2.5</td>\n",
              "      <td>3.2</td>\n",
              "      <td>2.4</td>\n",
              "      <td>0.6</td>\n",
              "      <td>0.2</td>\n",
              "      <td>1.4</td>\n",
              "      <td>2.2</td>\n",
              "      <td>15.2</td>\n",
              "      <td>196.0</td>\n",
              "      <td>95.0</td>\n",
              "    </tr>\n",
              "    <tr>\n",
              "      <th>3</th>\n",
              "      <td>27.0</td>\n",
              "      <td>64.0</td>\n",
              "      <td>64.0</td>\n",
              "      <td>36.0</td>\n",
              "      <td>6.2</td>\n",
              "      <td>14.1</td>\n",
              "      <td>0.439</td>\n",
              "      <td>1.1</td>\n",
              "      <td>3.8</td>\n",
              "      <td>0.300</td>\n",
              "      <td>5.1</td>\n",
              "      <td>10.4</td>\n",
              "      <td>0.489</td>\n",
              "      <td>0.478</td>\n",
              "      <td>3.0</td>\n",
              "      <td>3.5</td>\n",
              "      <td>0.857</td>\n",
              "      <td>0.5</td>\n",
              "      <td>3.3</td>\n",
              "      <td>3.7</td>\n",
              "      <td>3.2</td>\n",
              "      <td>0.6</td>\n",
              "      <td>0.2</td>\n",
              "      <td>2.2</td>\n",
              "      <td>2.1</td>\n",
              "      <td>16.5</td>\n",
              "      <td>196.0</td>\n",
              "      <td>95.0</td>\n",
              "    </tr>\n",
              "    <tr>\n",
              "      <th>4</th>\n",
              "      <td>28.0</td>\n",
              "      <td>73.0</td>\n",
              "      <td>73.0</td>\n",
              "      <td>35.0</td>\n",
              "      <td>6.4</td>\n",
              "      <td>13.8</td>\n",
              "      <td>0.459</td>\n",
              "      <td>1.8</td>\n",
              "      <td>4.1</td>\n",
              "      <td>0.427</td>\n",
              "      <td>4.6</td>\n",
              "      <td>9.7</td>\n",
              "      <td>0.473</td>\n",
              "      <td>0.522</td>\n",
              "      <td>3.8</td>\n",
              "      <td>4.6</td>\n",
              "      <td>0.815</td>\n",
              "      <td>0.4</td>\n",
              "      <td>3.2</td>\n",
              "      <td>3.6</td>\n",
              "      <td>3.4</td>\n",
              "      <td>0.5</td>\n",
              "      <td>0.0</td>\n",
              "      <td>2.0</td>\n",
              "      <td>1.9</td>\n",
              "      <td>18.2</td>\n",
              "      <td>196.0</td>\n",
              "      <td>95.0</td>\n",
              "    </tr>\n",
              "    <tr>\n",
              "      <th>...</th>\n",
              "      <td>...</td>\n",
              "      <td>...</td>\n",
              "      <td>...</td>\n",
              "      <td>...</td>\n",
              "      <td>...</td>\n",
              "      <td>...</td>\n",
              "      <td>...</td>\n",
              "      <td>...</td>\n",
              "      <td>...</td>\n",
              "      <td>...</td>\n",
              "      <td>...</td>\n",
              "      <td>...</td>\n",
              "      <td>...</td>\n",
              "      <td>...</td>\n",
              "      <td>...</td>\n",
              "      <td>...</td>\n",
              "      <td>...</td>\n",
              "      <td>...</td>\n",
              "      <td>...</td>\n",
              "      <td>...</td>\n",
              "      <td>...</td>\n",
              "      <td>...</td>\n",
              "      <td>...</td>\n",
              "      <td>...</td>\n",
              "      <td>...</td>\n",
              "      <td>...</td>\n",
              "      <td>...</td>\n",
              "      <td>...</td>\n",
              "    </tr>\n",
              "    <tr>\n",
              "      <th>5196</th>\n",
              "      <td>22.0</td>\n",
              "      <td>73.0</td>\n",
              "      <td>53.0</td>\n",
              "      <td>29.7</td>\n",
              "      <td>4.7</td>\n",
              "      <td>9.2</td>\n",
              "      <td>0.511</td>\n",
              "      <td>0.4</td>\n",
              "      <td>1.1</td>\n",
              "      <td>0.359</td>\n",
              "      <td>4.3</td>\n",
              "      <td>8.1</td>\n",
              "      <td>0.531</td>\n",
              "      <td>0.532</td>\n",
              "      <td>1.8</td>\n",
              "      <td>2.2</td>\n",
              "      <td>0.826</td>\n",
              "      <td>1.2</td>\n",
              "      <td>2.5</td>\n",
              "      <td>3.7</td>\n",
              "      <td>2.8</td>\n",
              "      <td>0.8</td>\n",
              "      <td>0.3</td>\n",
              "      <td>1.1</td>\n",
              "      <td>2.4</td>\n",
              "      <td>11.6</td>\n",
              "      <td>198.0</td>\n",
              "      <td>95.0</td>\n",
              "    </tr>\n",
              "    <tr>\n",
              "      <th>5197</th>\n",
              "      <td>22.0</td>\n",
              "      <td>81.0</td>\n",
              "      <td>27.0</td>\n",
              "      <td>23.3</td>\n",
              "      <td>3.1</td>\n",
              "      <td>7.4</td>\n",
              "      <td>0.415</td>\n",
              "      <td>0.6</td>\n",
              "      <td>1.9</td>\n",
              "      <td>0.293</td>\n",
              "      <td>2.5</td>\n",
              "      <td>5.5</td>\n",
              "      <td>0.458</td>\n",
              "      <td>0.453</td>\n",
              "      <td>1.4</td>\n",
              "      <td>1.7</td>\n",
              "      <td>0.807</td>\n",
              "      <td>0.3</td>\n",
              "      <td>1.8</td>\n",
              "      <td>2.0</td>\n",
              "      <td>4.3</td>\n",
              "      <td>1.1</td>\n",
              "      <td>0.1</td>\n",
              "      <td>1.9</td>\n",
              "      <td>1.6</td>\n",
              "      <td>8.1</td>\n",
              "      <td>188.0</td>\n",
              "      <td>83.0</td>\n",
              "    </tr>\n",
              "    <tr>\n",
              "      <th>5201</th>\n",
              "      <td>22.0</td>\n",
              "      <td>72.0</td>\n",
              "      <td>29.0</td>\n",
              "      <td>25.0</td>\n",
              "      <td>2.9</td>\n",
              "      <td>7.4</td>\n",
              "      <td>0.399</td>\n",
              "      <td>0.4</td>\n",
              "      <td>1.7</td>\n",
              "      <td>0.262</td>\n",
              "      <td>2.5</td>\n",
              "      <td>5.7</td>\n",
              "      <td>0.440</td>\n",
              "      <td>0.429</td>\n",
              "      <td>1.9</td>\n",
              "      <td>2.9</td>\n",
              "      <td>0.660</td>\n",
              "      <td>2.0</td>\n",
              "      <td>4.0</td>\n",
              "      <td>6.1</td>\n",
              "      <td>1.6</td>\n",
              "      <td>0.8</td>\n",
              "      <td>0.3</td>\n",
              "      <td>1.6</td>\n",
              "      <td>2.3</td>\n",
              "      <td>8.3</td>\n",
              "      <td>201.0</td>\n",
              "      <td>118.0</td>\n",
              "    </tr>\n",
              "    <tr>\n",
              "      <th>5202</th>\n",
              "      <td>23.0</td>\n",
              "      <td>3.0</td>\n",
              "      <td>0.0</td>\n",
              "      <td>13.7</td>\n",
              "      <td>0.3</td>\n",
              "      <td>2.0</td>\n",
              "      <td>0.167</td>\n",
              "      <td>0.0</td>\n",
              "      <td>0.0</td>\n",
              "      <td>0.000</td>\n",
              "      <td>0.3</td>\n",
              "      <td>2.0</td>\n",
              "      <td>0.167</td>\n",
              "      <td>0.167</td>\n",
              "      <td>0.7</td>\n",
              "      <td>2.0</td>\n",
              "      <td>0.333</td>\n",
              "      <td>0.3</td>\n",
              "      <td>0.7</td>\n",
              "      <td>1.0</td>\n",
              "      <td>1.7</td>\n",
              "      <td>0.0</td>\n",
              "      <td>0.0</td>\n",
              "      <td>1.0</td>\n",
              "      <td>1.3</td>\n",
              "      <td>1.3</td>\n",
              "      <td>188.0</td>\n",
              "      <td>86.0</td>\n",
              "    </tr>\n",
              "    <tr>\n",
              "      <th>5203</th>\n",
              "      <td>25.0</td>\n",
              "      <td>25.0</td>\n",
              "      <td>1.0</td>\n",
              "      <td>20.3</td>\n",
              "      <td>2.4</td>\n",
              "      <td>7.2</td>\n",
              "      <td>0.341</td>\n",
              "      <td>1.2</td>\n",
              "      <td>3.9</td>\n",
              "      <td>0.296</td>\n",
              "      <td>1.3</td>\n",
              "      <td>3.2</td>\n",
              "      <td>0.395</td>\n",
              "      <td>0.422</td>\n",
              "      <td>1.6</td>\n",
              "      <td>2.0</td>\n",
              "      <td>0.765</td>\n",
              "      <td>0.4</td>\n",
              "      <td>1.6</td>\n",
              "      <td>2.0</td>\n",
              "      <td>2.6</td>\n",
              "      <td>0.9</td>\n",
              "      <td>0.1</td>\n",
              "      <td>1.5</td>\n",
              "      <td>1.3</td>\n",
              "      <td>7.6</td>\n",
              "      <td>190.0</td>\n",
              "      <td>81.0</td>\n",
              "    </tr>\n",
              "  </tbody>\n",
              "</table>\n",
              "<p>13030 rows × 28 columns</p>\n",
              "</div>"
            ],
            "text/plain": [
              "       Age     G    GS    MP   FG   FGA  ...  BLK  TOV   PF   PTS  height  weight\n",
              "0     24.0  82.0  75.0  27.1  3.3   7.1  ...  0.4  0.9  2.7   8.8   196.0    95.0\n",
              "1     25.0  69.0  69.0  33.7  4.5   9.1  ...  0.4  1.0  2.2  12.6   196.0    95.0\n",
              "2     26.0  62.0  62.0  33.6  5.3  11.3  ...  0.2  1.4  2.2  15.2   196.0    95.0\n",
              "3     27.0  64.0  64.0  36.0  6.2  14.1  ...  0.2  2.2  2.1  16.5   196.0    95.0\n",
              "4     28.0  73.0  73.0  35.0  6.4  13.8  ...  0.0  2.0  1.9  18.2   196.0    95.0\n",
              "...    ...   ...   ...   ...  ...   ...  ...  ...  ...  ...   ...     ...     ...\n",
              "5196  22.0  73.0  53.0  29.7  4.7   9.2  ...  0.3  1.1  2.4  11.6   198.0    95.0\n",
              "5197  22.0  81.0  27.0  23.3  3.1   7.4  ...  0.1  1.9  1.6   8.1   188.0    83.0\n",
              "5201  22.0  72.0  29.0  25.0  2.9   7.4  ...  0.3  1.6  2.3   8.3   201.0   118.0\n",
              "5202  23.0   3.0   0.0  13.7  0.3   2.0  ...  0.0  1.0  1.3   1.3   188.0    86.0\n",
              "5203  25.0  25.0   1.0  20.3  2.4   7.2  ...  0.1  1.5  1.3   7.6   190.0    81.0\n",
              "\n",
              "[13030 rows x 28 columns]"
            ]
          },
          "metadata": {
            "tags": []
          },
          "execution_count": 54
        }
      ]
    },
    {
      "cell_type": "code",
      "metadata": {
        "id": "igeDDVSmH3tV"
      },
      "source": [
        "from sklearn.model_selection import train_test_split\n",
        "X_train, X_test, y_train, y_test = train_test_split(mp_prediction_dataset, mp_prediction_dataset_labels, random_state=0)\n"
      ],
      "execution_count": null,
      "outputs": []
    },
    {
      "cell_type": "code",
      "metadata": {
        "id": "05mUKs-mH56v"
      },
      "source": [
        "from sklearn.preprocessing import StandardScaler\n",
        "scaler = StandardScaler()\n",
        "X_scaler = scaler.fit(X_train)\n",
        "X_train_scaled = X_scaler.transform(X_train)\n",
        "X_test_scaled = X_scaler.transform(X_test)"
      ],
      "execution_count": null,
      "outputs": []
    },
    {
      "cell_type": "code",
      "metadata": {
        "colab": {
          "base_uri": "https://localhost:8080/"
        },
        "id": "ucLWfqodGxPf",
        "outputId": "b977c4cc-4c73-4fc4-95f9-673ce9cfde04"
      },
      "source": [
        "from sklearn.ensemble import RandomForestClassifier\n",
        "rf1_model = RandomForestClassifier(n_estimators=500, random_state=1)\n",
        "rf1_model = rf1_model.fit(X_train_scaled, y_train)\n",
        "predictions = rf1_model.predict(X_test_scaled)\n",
        "model_accuracy_score = accuracy_score(y_test, predictions)\n",
        "print(model_accuracy_score)"
      ],
      "execution_count": null,
      "outputs": [
        {
          "output_type": "stream",
          "text": [
            "0.7894413750767342\n"
          ],
          "name": "stdout"
        }
      ]
    },
    {
      "cell_type": "code",
      "metadata": {
        "colab": {
          "base_uri": "https://localhost:8080/"
        },
        "id": "UU4bCck1IBgz",
        "outputId": "d39c63fb-c6ee-4416-f7c5-f4787d65a081"
      },
      "source": [
        "from sklearn import svm\n",
        "from sklearn.svm import SVC\n",
        "svm1_model = svm.SVC(kernel='linear', random_state=1)\n",
        "svm1_model = svm1_model.fit(X_train_scaled, y_train)\n",
        "predictions = svm1_model.predict(X_test_scaled)\n",
        "model_accuracy_score = accuracy_score(y_test, predictions)\n",
        "print(model_accuracy_score)"
      ],
      "execution_count": null,
      "outputs": [
        {
          "output_type": "stream",
          "text": [
            "0.7130141190914672\n"
          ],
          "name": "stdout"
        }
      ]
    },
    {
      "cell_type": "code",
      "metadata": {
        "id": "N9tzeQ2YILPm"
      },
      "source": [
        "from sklearn.ensemble import RandomForestClassifier\n",
        "from matplotlib import pyplot\n",
        "# define dataset\n",
        "# define the model\n",
        "model = RandomForestClassifier()\n",
        "# fit the model\n",
        "model.fit(X_train_scaled, y_train)\n",
        "# get importance\n",
        "importance = model.feature_importances_\n",
        "# summarize feature importance\n",
        "for i in range(len(importance)):\n",
        "  string = \"\"\n",
        "  val = X_train.columns[i]\n",
        "  string = string + \"Feature\" + str(i) + val + \" = Importance:\" + str(importance[i])\n",
        "  print(string)\n",
        "\n",
        "#for i,v in enumerate(importance):\n",
        "\t#print('Feature: %0d, Score: %.5f' % (i,v))\n",
        "# plot feature importance\n",
        "pyplot.bar([x for x in range(len(importance))], importance)\n",
        "pyplot.show()"
      ],
      "execution_count": null,
      "outputs": []
    },
    {
      "cell_type": "markdown",
      "metadata": {
        "id": "FnCccnAgKB1o"
      },
      "source": [
        "### **KMeans Clustering**"
      ]
    },
    {
      "cell_type": "code",
      "metadata": {
        "id": "Jud9LcVDEnrU"
      },
      "source": [
        "import matplotlib.pyplot as plt\n",
        "from kneed import KneeLocator\n",
        "from sklearn.datasets import make_blobs\n",
        "from sklearn.cluster import KMeans\n",
        "from sklearn.metrics import silhouette_score\n",
        "from sklearn.preprocessing import StandardScaler"
      ],
      "execution_count": null,
      "outputs": []
    },
    {
      "cell_type": "code",
      "metadata": {
        "id": "oa7-Xlp1wq6c",
        "colab": {
          "base_uri": "https://localhost:8080/",
          "height": 419
        },
        "outputId": "f96faa0d-98e7-4289-f515-ec63e73d1b39"
      },
      "source": [
        "labels_2010s = player_stats_2010s['Pos']\n",
        "player_stats_2010s.drop(columns=['Pos'],inplace=True)\n",
        "labels_2000s = player_stats_2000s['Pos']\n",
        "player_stats_2000s.drop(columns=['Pos'],inplace=True)\n",
        "labels_1990s = player_stats_1990s['Pos']\n",
        "player_stats_1990s.drop(columns=['Pos'],inplace=True)\n",
        "\n",
        "player_stats_2000s"
      ],
      "execution_count": null,
      "outputs": [
        {
          "output_type": "execute_result",
          "data": {
            "text/html": [
              "<div>\n",
              "<style scoped>\n",
              "    .dataframe tbody tr th:only-of-type {\n",
              "        vertical-align: middle;\n",
              "    }\n",
              "\n",
              "    .dataframe tbody tr th {\n",
              "        vertical-align: top;\n",
              "    }\n",
              "\n",
              "    .dataframe thead th {\n",
              "        text-align: right;\n",
              "    }\n",
              "</style>\n",
              "<table border=\"1\" class=\"dataframe\">\n",
              "  <thead>\n",
              "    <tr style=\"text-align: right;\">\n",
              "      <th></th>\n",
              "      <th>Age</th>\n",
              "      <th>G</th>\n",
              "      <th>GS</th>\n",
              "      <th>MP</th>\n",
              "      <th>FG</th>\n",
              "      <th>FGA</th>\n",
              "      <th>FG%</th>\n",
              "      <th>3P</th>\n",
              "      <th>3PA</th>\n",
              "      <th>3P%</th>\n",
              "      <th>2P</th>\n",
              "      <th>2PA</th>\n",
              "      <th>2P%</th>\n",
              "      <th>eFG%</th>\n",
              "      <th>FT</th>\n",
              "      <th>FTA</th>\n",
              "      <th>FT%</th>\n",
              "      <th>ORB</th>\n",
              "      <th>DRB</th>\n",
              "      <th>TRB</th>\n",
              "      <th>AST</th>\n",
              "      <th>STL</th>\n",
              "      <th>BLK</th>\n",
              "      <th>TOV</th>\n",
              "      <th>PF</th>\n",
              "      <th>PTS</th>\n",
              "      <th>height</th>\n",
              "      <th>weight</th>\n",
              "    </tr>\n",
              "  </thead>\n",
              "  <tbody>\n",
              "    <tr>\n",
              "      <th>0</th>\n",
              "      <td>25.0</td>\n",
              "      <td>61.0</td>\n",
              "      <td>56.0</td>\n",
              "      <td>25.9</td>\n",
              "      <td>4.5</td>\n",
              "      <td>10.6</td>\n",
              "      <td>0.424</td>\n",
              "      <td>0.0</td>\n",
              "      <td>0.4</td>\n",
              "      <td>0.130</td>\n",
              "      <td>4.4</td>\n",
              "      <td>10.2</td>\n",
              "      <td>0.435</td>\n",
              "      <td>0.426</td>\n",
              "      <td>2.4</td>\n",
              "      <td>3.2</td>\n",
              "      <td>0.756</td>\n",
              "      <td>1.7</td>\n",
              "      <td>3.1</td>\n",
              "      <td>4.8</td>\n",
              "      <td>1.6</td>\n",
              "      <td>1.0</td>\n",
              "      <td>0.5</td>\n",
              "      <td>1.7</td>\n",
              "      <td>2.4</td>\n",
              "      <td>11.4</td>\n",
              "      <td>198.0</td>\n",
              "      <td>101.0</td>\n",
              "    </tr>\n",
              "    <tr>\n",
              "      <th>1</th>\n",
              "      <td>25.0</td>\n",
              "      <td>46.0</td>\n",
              "      <td>46.0</td>\n",
              "      <td>26.2</td>\n",
              "      <td>4.8</td>\n",
              "      <td>11.2</td>\n",
              "      <td>0.433</td>\n",
              "      <td>0.0</td>\n",
              "      <td>0.5</td>\n",
              "      <td>0.095</td>\n",
              "      <td>4.8</td>\n",
              "      <td>10.7</td>\n",
              "      <td>0.447</td>\n",
              "      <td>0.435</td>\n",
              "      <td>2.5</td>\n",
              "      <td>3.3</td>\n",
              "      <td>0.762</td>\n",
              "      <td>1.7</td>\n",
              "      <td>3.5</td>\n",
              "      <td>5.2</td>\n",
              "      <td>1.6</td>\n",
              "      <td>1.2</td>\n",
              "      <td>0.3</td>\n",
              "      <td>1.9</td>\n",
              "      <td>2.5</td>\n",
              "      <td>12.2</td>\n",
              "      <td>198.0</td>\n",
              "      <td>101.0</td>\n",
              "    </tr>\n",
              "    <tr>\n",
              "      <th>2</th>\n",
              "      <td>25.0</td>\n",
              "      <td>15.0</td>\n",
              "      <td>10.0</td>\n",
              "      <td>24.9</td>\n",
              "      <td>3.4</td>\n",
              "      <td>8.7</td>\n",
              "      <td>0.389</td>\n",
              "      <td>0.1</td>\n",
              "      <td>0.1</td>\n",
              "      <td>0.500</td>\n",
              "      <td>3.3</td>\n",
              "      <td>8.6</td>\n",
              "      <td>0.388</td>\n",
              "      <td>0.393</td>\n",
              "      <td>2.1</td>\n",
              "      <td>2.8</td>\n",
              "      <td>0.738</td>\n",
              "      <td>1.6</td>\n",
              "      <td>1.9</td>\n",
              "      <td>3.5</td>\n",
              "      <td>1.7</td>\n",
              "      <td>0.4</td>\n",
              "      <td>0.8</td>\n",
              "      <td>1.3</td>\n",
              "      <td>2.1</td>\n",
              "      <td>8.9</td>\n",
              "      <td>198.0</td>\n",
              "      <td>101.0</td>\n",
              "    </tr>\n",
              "    <tr>\n",
              "      <th>3</th>\n",
              "      <td>26.0</td>\n",
              "      <td>29.0</td>\n",
              "      <td>12.0</td>\n",
              "      <td>14.5</td>\n",
              "      <td>1.5</td>\n",
              "      <td>3.8</td>\n",
              "      <td>0.387</td>\n",
              "      <td>0.1</td>\n",
              "      <td>0.3</td>\n",
              "      <td>0.400</td>\n",
              "      <td>1.3</td>\n",
              "      <td>3.5</td>\n",
              "      <td>0.386</td>\n",
              "      <td>0.405</td>\n",
              "      <td>0.7</td>\n",
              "      <td>1.2</td>\n",
              "      <td>0.583</td>\n",
              "      <td>0.5</td>\n",
              "      <td>1.6</td>\n",
              "      <td>2.0</td>\n",
              "      <td>0.8</td>\n",
              "      <td>0.5</td>\n",
              "      <td>0.4</td>\n",
              "      <td>1.2</td>\n",
              "      <td>1.9</td>\n",
              "      <td>3.8</td>\n",
              "      <td>198.0</td>\n",
              "      <td>101.0</td>\n",
              "    </tr>\n",
              "    <tr>\n",
              "      <th>4</th>\n",
              "      <td>27.0</td>\n",
              "      <td>24.0</td>\n",
              "      <td>12.0</td>\n",
              "      <td>18.4</td>\n",
              "      <td>2.3</td>\n",
              "      <td>6.1</td>\n",
              "      <td>0.374</td>\n",
              "      <td>0.0</td>\n",
              "      <td>0.1</td>\n",
              "      <td>0.500</td>\n",
              "      <td>2.3</td>\n",
              "      <td>6.0</td>\n",
              "      <td>0.372</td>\n",
              "      <td>0.378</td>\n",
              "      <td>1.0</td>\n",
              "      <td>1.4</td>\n",
              "      <td>0.727</td>\n",
              "      <td>1.7</td>\n",
              "      <td>1.8</td>\n",
              "      <td>3.5</td>\n",
              "      <td>1.0</td>\n",
              "      <td>0.8</td>\n",
              "      <td>0.4</td>\n",
              "      <td>1.1</td>\n",
              "      <td>2.3</td>\n",
              "      <td>5.6</td>\n",
              "      <td>198.0</td>\n",
              "      <td>101.0</td>\n",
              "    </tr>\n",
              "    <tr>\n",
              "      <th>...</th>\n",
              "      <td>...</td>\n",
              "      <td>...</td>\n",
              "      <td>...</td>\n",
              "      <td>...</td>\n",
              "      <td>...</td>\n",
              "      <td>...</td>\n",
              "      <td>...</td>\n",
              "      <td>...</td>\n",
              "      <td>...</td>\n",
              "      <td>...</td>\n",
              "      <td>...</td>\n",
              "      <td>...</td>\n",
              "      <td>...</td>\n",
              "      <td>...</td>\n",
              "      <td>...</td>\n",
              "      <td>...</td>\n",
              "      <td>...</td>\n",
              "      <td>...</td>\n",
              "      <td>...</td>\n",
              "      <td>...</td>\n",
              "      <td>...</td>\n",
              "      <td>...</td>\n",
              "      <td>...</td>\n",
              "      <td>...</td>\n",
              "      <td>...</td>\n",
              "      <td>...</td>\n",
              "      <td>...</td>\n",
              "      <td>...</td>\n",
              "    </tr>\n",
              "    <tr>\n",
              "      <th>5499</th>\n",
              "      <td>22.0</td>\n",
              "      <td>68.0</td>\n",
              "      <td>13.0</td>\n",
              "      <td>13.0</td>\n",
              "      <td>1.1</td>\n",
              "      <td>1.9</td>\n",
              "      <td>0.588</td>\n",
              "      <td>0.0</td>\n",
              "      <td>0.0</td>\n",
              "      <td>0.000</td>\n",
              "      <td>1.1</td>\n",
              "      <td>1.9</td>\n",
              "      <td>0.588</td>\n",
              "      <td>0.588</td>\n",
              "      <td>0.8</td>\n",
              "      <td>1.4</td>\n",
              "      <td>0.581</td>\n",
              "      <td>1.3</td>\n",
              "      <td>2.3</td>\n",
              "      <td>3.6</td>\n",
              "      <td>0.2</td>\n",
              "      <td>0.2</td>\n",
              "      <td>1.3</td>\n",
              "      <td>0.6</td>\n",
              "      <td>2.4</td>\n",
              "      <td>3.1</td>\n",
              "      <td>221.0</td>\n",
              "      <td>119.0</td>\n",
              "    </tr>\n",
              "    <tr>\n",
              "      <th>5500</th>\n",
              "      <td>22.0</td>\n",
              "      <td>73.0</td>\n",
              "      <td>17.0</td>\n",
              "      <td>25.6</td>\n",
              "      <td>5.5</td>\n",
              "      <td>12.1</td>\n",
              "      <td>0.451</td>\n",
              "      <td>1.6</td>\n",
              "      <td>4.3</td>\n",
              "      <td>0.374</td>\n",
              "      <td>3.8</td>\n",
              "      <td>7.8</td>\n",
              "      <td>0.493</td>\n",
              "      <td>0.517</td>\n",
              "      <td>2.0</td>\n",
              "      <td>2.4</td>\n",
              "      <td>0.814</td>\n",
              "      <td>1.0</td>\n",
              "      <td>1.9</td>\n",
              "      <td>2.9</td>\n",
              "      <td>1.6</td>\n",
              "      <td>0.8</td>\n",
              "      <td>0.2</td>\n",
              "      <td>1.0</td>\n",
              "      <td>1.7</td>\n",
              "      <td>14.5</td>\n",
              "      <td>193.0</td>\n",
              "      <td>92.0</td>\n",
              "    </tr>\n",
              "    <tr>\n",
              "      <th>5501</th>\n",
              "      <td>23.0</td>\n",
              "      <td>24.0</td>\n",
              "      <td>10.0</td>\n",
              "      <td>32.6</td>\n",
              "      <td>5.8</td>\n",
              "      <td>11.8</td>\n",
              "      <td>0.495</td>\n",
              "      <td>1.4</td>\n",
              "      <td>3.8</td>\n",
              "      <td>0.359</td>\n",
              "      <td>4.5</td>\n",
              "      <td>8.0</td>\n",
              "      <td>0.560</td>\n",
              "      <td>0.553</td>\n",
              "      <td>2.2</td>\n",
              "      <td>2.6</td>\n",
              "      <td>0.839</td>\n",
              "      <td>0.8</td>\n",
              "      <td>3.8</td>\n",
              "      <td>4.6</td>\n",
              "      <td>2.8</td>\n",
              "      <td>1.0</td>\n",
              "      <td>0.3</td>\n",
              "      <td>1.2</td>\n",
              "      <td>2.0</td>\n",
              "      <td>15.2</td>\n",
              "      <td>201.0</td>\n",
              "      <td>86.0</td>\n",
              "    </tr>\n",
              "    <tr>\n",
              "      <th>5502</th>\n",
              "      <td>22.0</td>\n",
              "      <td>78.0</td>\n",
              "      <td>9.0</td>\n",
              "      <td>22.6</td>\n",
              "      <td>3.3</td>\n",
              "      <td>8.3</td>\n",
              "      <td>0.401</td>\n",
              "      <td>0.4</td>\n",
              "      <td>1.3</td>\n",
              "      <td>0.310</td>\n",
              "      <td>2.9</td>\n",
              "      <td>7.1</td>\n",
              "      <td>0.417</td>\n",
              "      <td>0.425</td>\n",
              "      <td>1.3</td>\n",
              "      <td>1.8</td>\n",
              "      <td>0.715</td>\n",
              "      <td>0.6</td>\n",
              "      <td>3.9</td>\n",
              "      <td>4.5</td>\n",
              "      <td>2.9</td>\n",
              "      <td>0.6</td>\n",
              "      <td>0.1</td>\n",
              "      <td>1.6</td>\n",
              "      <td>1.6</td>\n",
              "      <td>8.4</td>\n",
              "      <td>198.0</td>\n",
              "      <td>99.0</td>\n",
              "    </tr>\n",
              "    <tr>\n",
              "      <th>5503</th>\n",
              "      <td>24.0</td>\n",
              "      <td>80.0</td>\n",
              "      <td>1.0</td>\n",
              "      <td>16.5</td>\n",
              "      <td>2.8</td>\n",
              "      <td>6.2</td>\n",
              "      <td>0.451</td>\n",
              "      <td>0.1</td>\n",
              "      <td>0.7</td>\n",
              "      <td>0.196</td>\n",
              "      <td>2.7</td>\n",
              "      <td>5.5</td>\n",
              "      <td>0.483</td>\n",
              "      <td>0.462</td>\n",
              "      <td>1.7</td>\n",
              "      <td>2.2</td>\n",
              "      <td>0.777</td>\n",
              "      <td>1.0</td>\n",
              "      <td>1.6</td>\n",
              "      <td>2.5</td>\n",
              "      <td>0.7</td>\n",
              "      <td>0.4</td>\n",
              "      <td>0.3</td>\n",
              "      <td>1.2</td>\n",
              "      <td>1.3</td>\n",
              "      <td>7.4</td>\n",
              "      <td>198.0</td>\n",
              "      <td>99.0</td>\n",
              "    </tr>\n",
              "  </tbody>\n",
              "</table>\n",
              "<p>5504 rows × 28 columns</p>\n",
              "</div>"
            ],
            "text/plain": [
              "       Age     G    GS    MP   FG   FGA  ...  BLK  TOV   PF   PTS  height  weight\n",
              "0     25.0  61.0  56.0  25.9  4.5  10.6  ...  0.5  1.7  2.4  11.4   198.0   101.0\n",
              "1     25.0  46.0  46.0  26.2  4.8  11.2  ...  0.3  1.9  2.5  12.2   198.0   101.0\n",
              "2     25.0  15.0  10.0  24.9  3.4   8.7  ...  0.8  1.3  2.1   8.9   198.0   101.0\n",
              "3     26.0  29.0  12.0  14.5  1.5   3.8  ...  0.4  1.2  1.9   3.8   198.0   101.0\n",
              "4     27.0  24.0  12.0  18.4  2.3   6.1  ...  0.4  1.1  2.3   5.6   198.0   101.0\n",
              "...    ...   ...   ...   ...  ...   ...  ...  ...  ...  ...   ...     ...     ...\n",
              "5499  22.0  68.0  13.0  13.0  1.1   1.9  ...  1.3  0.6  2.4   3.1   221.0   119.0\n",
              "5500  22.0  73.0  17.0  25.6  5.5  12.1  ...  0.2  1.0  1.7  14.5   193.0    92.0\n",
              "5501  23.0  24.0  10.0  32.6  5.8  11.8  ...  0.3  1.2  2.0  15.2   201.0    86.0\n",
              "5502  22.0  78.0   9.0  22.6  3.3   8.3  ...  0.1  1.6  1.6   8.4   198.0    99.0\n",
              "5503  24.0  80.0   1.0  16.5  2.8   6.2  ...  0.3  1.2  1.3   7.4   198.0    99.0\n",
              "\n",
              "[5504 rows x 28 columns]"
            ]
          },
          "metadata": {
            "tags": []
          },
          "execution_count": 61
        }
      ]
    },
    {
      "cell_type": "code",
      "metadata": {
        "id": "1sjz2IHGyGsf"
      },
      "source": [
        "from sklearn.preprocessing import LabelEncoder\n",
        "le = LabelEncoder()\n",
        "\n",
        "labels_2010s = le.fit_transform(labels_2010s)\n",
        "n_clusters_2010s = len(le.classes_)\n",
        "labels_2000s = le.fit_transform(labels_2000s)\n",
        "n_clusters_2000s = len(le.classes_)\n",
        "labels_1990s = le.fit_transform(labels_1990s)\n",
        "n_clusters_1990s = len(le.classes_)\n"
      ],
      "execution_count": null,
      "outputs": []
    },
    {
      "cell_type": "code",
      "metadata": {
        "id": "JFxuf3LrOu0U"
      },
      "source": [
        "list(le.inverse_transform([0,1,2,3,4]))"
      ],
      "execution_count": null,
      "outputs": []
    },
    {
      "cell_type": "code",
      "metadata": {
        "id": "uP3vnS6IOSgG"
      },
      "source": [
        "le.class"
      ],
      "execution_count": null,
      "outputs": []
    },
    {
      "cell_type": "code",
      "metadata": {
        "id": "Ydwa0YcMMkaX"
      },
      "source": [
        "kmeansx_train, kmeansx_test, kmeansy_train, kmeansy_test = train_test_split(player_stats_2010s, labels_2010s, random_state=0)"
      ],
      "execution_count": null,
      "outputs": []
    },
    {
      "cell_type": "code",
      "metadata": {
        "id": "tkX4rBtBE58F"
      },
      "source": [
        "scaler = StandardScaler()\n",
        "\n",
        "scaled_1990s = scaler.fit_transform(player_stats_1990s)\n",
        "scaled_2000s = scaler.fit_transform(player_stats_2000s)\n",
        "scaled_2010s = scaler.fit_transform(player_stats_2010s)"
      ],
      "execution_count": null,
      "outputs": []
    },
    {
      "cell_type": "code",
      "metadata": {
        "id": "o7X_1GPWERXY"
      },
      "source": [
        "from sklearn.decomposition import PCA\n",
        "pca = PCA(n_components=2)\n",
        "df2010 = pca.fit_transform(scaled_2010s)"
      ],
      "execution_count": null,
      "outputs": []
    },
    {
      "cell_type": "code",
      "metadata": {
        "id": "Z-nyrkuAL-Kz",
        "colab": {
          "base_uri": "https://localhost:8080/"
        },
        "outputId": "7ec6a89d-7827-4c56-9fbc-4134c0b6b0f2"
      },
      "source": [
        "from sklearn.cluster import KMeans\n",
        " \n",
        "#Initialize the class object\n",
        "kmeans = KMeans(n_clusters= 3)\n",
        " \n",
        "#predict the labels of clusters.\n",
        "label = kmeans.fit_predict(df2010)\n",
        "\n",
        "print(label)"
      ],
      "execution_count": null,
      "outputs": [
        {
          "output_type": "stream",
          "text": [
            "[1 1 1 ... 2 2 0]\n"
          ],
          "name": "stdout"
        }
      ]
    },
    {
      "cell_type": "code",
      "metadata": {
        "id": "r_xOqpfGN9dx",
        "colab": {
          "base_uri": "https://localhost:8080/",
          "height": 268
        },
        "outputId": "fe27da43-4f51-4f43-ae50-0ce9be3b4e87"
      },
      "source": [
        "u_labels = np.unique(label)\n",
        " \n",
        "#plotting the results:\n",
        " \n",
        "for i in u_labels:\n",
        "    plt.scatter(df2010[label == i , 0] , df2010[label == i , 1] , label = i)\n",
        "plt.legend()\n",
        "plt.show()"
      ],
      "execution_count": null,
      "outputs": [
        {
          "output_type": "display_data",
          "data": {
            "image/png": "[encoded data removed]",
            "text/plain": [
              "<Figure size 432x288 with 1 Axes>"
            ]
          },
          "metadata": {
            "tags": []
          }
        }
      ]
    },
    {
      "cell_type": "code",
      "metadata": {
        "id": "hPZDSHoaOIFj",
        "colab": {
          "base_uri": "https://localhost:8080/"
        },
        "outputId": "e488c046-615c-4d78-ca5d-42927b7f21dc"
      },
      "source": [
        "from sklearn.cluster import KMeans\n",
        " \n",
        "#Initialize the class object\n",
        "kmeans = KMeans(n_clusters= 5)\n",
        " \n",
        "#predict the labels of clusters.\n",
        "label = kmeans.fit_predict(df2010)\n",
        "\n",
        "print(label)"
      ],
      "execution_count": null,
      "outputs": [
        {
          "output_type": "stream",
          "text": [
            "[0 0 2 ... 1 1 3]\n"
          ],
          "name": "stdout"
        }
      ]
    },
    {
      "cell_type": "code",
      "metadata": {
        "id": "aQo5-hJMOLV5",
        "colab": {
          "base_uri": "https://localhost:8080/",
          "height": 268
        },
        "outputId": "d97b8499-41ce-4db3-db25-bb287d22736b"
      },
      "source": [
        "u_labels = np.unique(label)\n",
        " \n",
        "#plotting the results:\n",
        " \n",
        "for i in u_labels:\n",
        "    plt.scatter(df2010[label == i , 0] , df2010[label == i , 1] , label = i)\n",
        "plt.legend()\n",
        "plt.show()"
      ],
      "execution_count": null,
      "outputs": [
        {
          "output_type": "display_data",
          "data": {
            "image/png": "[encoded data removed]",
            "text/plain": [
              "<Figure size 432x288 with 1 Axes>"
            ]
          },
          "metadata": {
            "tags": []
          }
        }
      ]
    },
    {
      "cell_type": "markdown",
      "metadata": {
        "id": "ykEq8_hxKqv8"
      },
      "source": [
        "**Clustering on 1990s players**"
      ]
    },
    {
      "cell_type": "code",
      "metadata": {
        "id": "ELx0nuCknUPn"
      },
      "source": [
        "kmeans_kwargs = {\n",
        "    \"init\": \"random\",\n",
        "    \"n_init\": 10,\n",
        "    \"max_iter\": 300,\n",
        "    \"random_state\": 42,\n",
        "}\n",
        "\n",
        "# A list holds the SSE values for each k\n",
        "sse1990 = []\n",
        "for k in range(1, 11):\n",
        "    kmeans = KMeans(n_clusters=k, **kmeans_kwargs)\n",
        "    kmeans.fit(scaled_1990s)\n",
        "    sse1990.append(kmeans.inertia_)"
      ],
      "execution_count": null,
      "outputs": []
    },
    {
      "cell_type": "code",
      "metadata": {
        "colab": {
          "base_uri": "https://localhost:8080/",
          "height": 300
        },
        "id": "iUAYmd8WQGB3",
        "outputId": "83f9497f-ab34-4191-c329-14554ddbfd63"
      },
      "source": [
        "kmeans_kwargs = {\n",
        "    \"init\": \"random\",\n",
        "    \"n_init\": 10,\n",
        "    \"max_iter\": 300,\n",
        "    \"random_state\": 42,\n",
        "}\n",
        "\n",
        "# A list holds the SSE values for each k\n",
        "sse1990 = []\n",
        "for k in range(1, 11):\n",
        "    kmeans = KMeans(n_clusters=k, **kmeans_kwargs)\n",
        "    kmeans.fit(scaled_1990s)\n",
        "    sse1990.append(kmeans.inertia_)\n",
        "\n",
        "plt.style.use(\"fivethirtyeight\")\n",
        "plt.plot(range(1, 11), sse1990)\n",
        "plt.xticks(range(1, 11))\n",
        "plt.xlabel(\"Number of Clusters\")\n",
        "plt.ylabel(\"SSE2010\")\n",
        "plt.show()"
      ],
      "execution_count": null,
      "outputs": [
        {
          "output_type": "display_data",
          "data": {
            "image/png": "[encoded data removed]",
            "text/plain": [
              "<Figure size 432x288 with 1 Axes>"
            ]
          },
          "metadata": {
            "tags": []
          }
        }
      ]
    },
    {
      "cell_type": "code",
      "metadata": {
        "id": "RvGwl5nPnd6e"
      },
      "source": [
        " #elbow method\n",
        " \n",
        " plt.style.use(\"fivethirtyeight\")\n",
        " plt.plot(range(1, 11), sse1990)\n",
        " plt.xticks(range(1, 11))\n",
        " plt.xlabel(\"Number of Clusters\")\n",
        " plt.ylabel(\"SSE1990\")\n",
        " plt.show()"
      ],
      "execution_count": null,
      "outputs": []
    },
    {
      "cell_type": "code",
      "metadata": {
        "id": "XZCmxGh1nito"
      },
      "source": [
        "kl = KneeLocator(\n",
        "    range(1, 11), sse1990, curve=\"convex\", direction=\"decreasing\"\n",
        ")\n",
        "kl.elbow\n"
      ],
      "execution_count": null,
      "outputs": []
    },
    {
      "cell_type": "markdown",
      "metadata": {
        "id": "Ggw6yjviKxNQ"
      },
      "source": [
        "**Clustering on 2000s players**"
      ]
    },
    {
      "cell_type": "code",
      "metadata": {
        "id": "Om0AHPNCvl8l"
      },
      "source": [
        "kmeans_kwargs = {\n",
        "    \"init\": \"random\",\n",
        "    \"n_init\": 10,\n",
        "    \"max_iter\": 300,\n",
        "    \"random_state\": 42,\n",
        "}\n",
        "\n",
        "# A list holds the SSE values for each k\n",
        "sse2000 = []\n",
        "for k in range(1, 11):\n",
        "    kmeans = KMeans(n_clusters=k, **kmeans_kwargs)\n",
        "    kmeans.fit(scaled_2000s)\n",
        "    sse2000.append(kmeans.inertia_)"
      ],
      "execution_count": null,
      "outputs": []
    },
    {
      "cell_type": "code",
      "metadata": {
        "id": "sqBNH_7bvxYd"
      },
      "source": [
        "plt.style.use(\"fivethirtyeight\")\n",
        "plt.plot(range(1, 11), sse2000)\n",
        "plt.xticks(range(1, 11))\n",
        "plt.xlabel(\"Number of Clusters\")\n",
        "plt.ylabel(\"SSE2000\")\n",
        "plt.show()"
      ],
      "execution_count": null,
      "outputs": []
    },
    {
      "cell_type": "code",
      "metadata": {
        "id": "wgYl0f6sv1Qh"
      },
      "source": [
        "kl = KneeLocator(\n",
        "    range(1, 11), sse2000, curve=\"convex\", direction=\"decreasing\"\n",
        ")\n",
        "kl.elbow"
      ],
      "execution_count": null,
      "outputs": []
    },
    {
      "cell_type": "markdown",
      "metadata": {
        "id": "pr-PzU9jLCt-"
      },
      "source": [
        "**Clustering on 2010s players**"
      ]
    },
    {
      "cell_type": "code",
      "metadata": {
        "id": "8Pw9CWZlwBf7"
      },
      "source": [
        "kmeans_kwargs = {\n",
        "    \"init\": \"random\",\n",
        "    \"n_init\": 10,\n",
        "    \"max_iter\": 300,\n",
        "    \"random_state\": 42,\n",
        "}\n",
        "\n",
        "# A list holds the SSE values for each k\n",
        "sse2010 = []\n",
        "for k in range(1, 11):\n",
        "    kmeans = KMeans(n_clusters=k, **kmeans_kwargs)\n",
        "    kmeans.fit(scaled_2010s)\n",
        "    sse2010.append(kmeans.inertia_)"
      ],
      "execution_count": null,
      "outputs": []
    },
    {
      "cell_type": "code",
      "metadata": {
        "id": "6CO4IzIjwKSK"
      },
      "source": [
        "plt.style.use(\"fivethirtyeight\")\n",
        "plt.plot(range(1, 11), sse2010)\n",
        "plt.xticks(range(1, 11))\n",
        "plt.xlabel(\"Number of Clusters\")\n",
        "plt.ylabel(\"SSE2010\")\n",
        "plt.show()"
      ],
      "execution_count": null,
      "outputs": []
    },
    {
      "cell_type": "code",
      "metadata": {
        "id": "GgCPr80KwNex"
      },
      "source": [
        "kl = KneeLocator(\n",
        "    range(1, 11), sse2000, curve=\"convex\", direction=\"decreasing\"\n",
        ")\n",
        "kl.elbow"
      ],
      "execution_count": null,
      "outputs": []
    },
    {
      "cell_type": "code",
      "metadata": {
        "id": "VsjHGg4poGZJ"
      },
      "source": [
        "from sklearn.cluster import DBSCAN\n",
        "from sklearn.datasets import make_moons\n",
        "from sklearn.metrics import adjusted_rand_score\n"
      ],
      "execution_count": null,
      "outputs": []
    },
    {
      "cell_type": "code",
      "metadata": {
        "id": "F4oWQXvjRV5o"
      },
      "source": [
        "np.isnan(X_train.any())\n",
        "np.isfinite(X_train.all())"
      ],
      "execution_count": null,
      "outputs": []
    },
    {
      "cell_type": "code",
      "metadata": {
        "id": "bnPQiqeJZ0Tp"
      },
      "source": [
        "\n",
        "#print('Mean Absolute Error:', metrics.mean_absolute_error(y_test, y_pred))\n",
        "#print('Mean Squared Error:', metrics.mean_squared_error(y_test, y_pred))\n",
        "#print('Root Mean Squared Error:', np.sqrt(metrics.mean_squared_error(y_test, y_pred)))"
      ],
      "execution_count": null,
      "outputs": []
    }
  ]
}